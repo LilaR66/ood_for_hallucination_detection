{
 "cells": [
  {
   "cell_type": "markdown",
   "metadata": {},
   "source": [
    "# OOD detection applied to Hallucination Detection"
   ]
  },
  {
   "cell_type": "code",
   "execution_count": 1,
   "metadata": {},
   "outputs": [],
   "source": [
    "#/home/lila.roig/.env/ood_env/bin/python "
   ]
  },
  {
   "cell_type": "markdown",
   "metadata": {},
   "source": [
    "## Part II. Analyze results"
   ]
  },
  {
   "cell_type": "code",
   "execution_count": 1,
   "metadata": {},
   "outputs": [],
   "source": [
    "%load_ext autoreload\n",
    "%autoreload 2"
   ]
  },
  {
   "cell_type": "code",
   "execution_count": 3,
   "metadata": {},
   "outputs": [],
   "source": [
    "# import libraries\n",
    "# -----------------------------------\n",
    "import torch\n",
    "import sys\n",
    "import os \n",
    "import numpy as np\n",
    "import pandas as pd\n",
    "# Add the path to the src directory\n",
    "sys.path.append(os.path.abspath(\"..\"))"
   ]
  },
  {
   "cell_type": "code",
   "execution_count": 4,
   "metadata": {},
   "outputs": [
    {
     "name": "stdout",
     "output_type": "stream",
     "text": [
      "Python version: 3.11.11 (main, Dec  4 2024, 08:55:07) [GCC 11.4.0]\n",
      "Cuda version: 12.6\n",
      "Number of available de GPU : 2\n",
      "GPU 1 : NVIDIA GeForce RTX 4090\n",
      "GPU 2 : NVIDIA GeForce RTX 4090\n"
     ]
    }
   ],
   "source": [
    "# Visualize setup \n",
    "# -----------------------------------\n",
    "print(f\"Python version: {sys.version}\")\n",
    "print(f\"Cuda version: {torch.version.cuda}\")\n",
    "num_gpus = torch.cuda.device_count()\n",
    "print(f\"Number of available de GPU : {num_gpus}\")\n",
    "for i in range(num_gpus):\n",
    "    print(f\"GPU {i + 1} : {torch.cuda.get_device_name(i)}\")"
   ]
  },
  {
   "cell_type": "code",
   "execution_count": 12,
   "metadata": {},
   "outputs": [],
   "source": [
    "# Define global variables\n",
    "# -----------------------------------\n",
    "SEED = 777\n",
    "BATCH_SIZE = 16\n",
    "START_OFFSET = 0  # always 0 for now\n",
    "END_OFFSET = 0    # always 0 for now\n",
    "\n",
    "# Extract descriptors from: prompt, generated answer or both concatenated \n",
    "ACTIVATION_SOURCE = \"prompt\"  # 'prompt', 'generation', 'PromptGeneration'\n",
    "\n",
    "# Define repository names\n",
    "OUTPUT_DIR = f\"../results/raw/small_dataset_allConfig_seed{SEED}/\"\n",
    "PLOT_DIR   = f\"../results/figures/small_dataset_allConfig_seed{SEED}/\"\n",
    "\n",
    "# Define file name\n",
    "STR_AGG = 'All'\n",
    "STR_LAYERS = '1:32:2'\n",
    "OUTPUT_TITLE = f\"_layer{STR_LAYERS}_agg{STR_AGG}_{ACTIVATION_SOURCE}_so{START_OFFSET}_eo{END_OFFSET}_seed{SEED}\""
   ]
  },
  {
   "cell_type": "code",
   "execution_count": 7,
   "metadata": {},
   "outputs": [],
   "source": [
    "# Seed everything\n",
    "# -----------------------------------\n",
    "from src.utils.general import seed_all\n",
    "seed_all(SEED)"
   ]
  },
  {
   "cell_type": "code",
   "execution_count": 8,
   "metadata": {},
   "outputs": [],
   "source": [
    "# Clear memory to avoid \"CUDA out of memory\"\n",
    "# -----------------------------------\n",
    "torch.cuda.empty_cache()\n",
    "torch.cuda.ipc_collect()"
   ]
  },
  {
   "cell_type": "markdown",
   "metadata": {},
   "source": [
    "### 1. Load all extracted descriptors (obtained from Part I.)"
   ]
  },
  {
   "cell_type": "code",
   "execution_count": 13,
   "metadata": {},
   "outputs": [
    {
     "name": "stdout",
     "output_type": "stream",
     "text": [
      "Loaded 8008 samples from: ../results/raw/small_dataset_allConfig_seed777/id_fit_results_layer1:32:2_aggAll_prompt_so0_eo0_seed777.pkl\n"
     ]
    }
   ],
   "source": [
    "# Load ID descriptors \n",
    "# -----------------------------------\n",
    "from src.data_reader.pickle_io import load_pickle_batches\n",
    "from src.utils.general import add_unanswerable_flag, filter_entries\n",
    "\n",
    "# Load extracted descriptors \n",
    "id_fit_data = load_pickle_batches(f\"{OUTPUT_DIR}id_fit_results{OUTPUT_TITLE}.pkl\")\n",
    "\n",
    "# Add unanswerable flag: check if the generated answer contains 'unanswerable' keyword\n",
    "# Expect many 'unanswerable' flags in `od_test_data` and few in `id_test_data`, if model works well\n",
    "id_fit_data = add_unanswerable_flag(id_fit_data)\n",
    "\n",
    "# Filter descriptors: keep only answerable answers for ID\n",
    "if False:  #### TODO: ADAPT TO NEW CODE VERSION ####\n",
    "    id_fit_data = filter_entries(id_fit_data, column='is_unanswerable', value=0) "
   ]
  },
  {
   "cell_type": "code",
   "execution_count": 14,
   "metadata": {},
   "outputs": [
    {
     "name": "stdout",
     "output_type": "stream",
     "text": [
      "Loaded 1000 samples from: ../results/raw/small_dataset_allConfig_seed777/od_test_results_layer1:32:2_aggAll_prompt_so0_eo0_seed777.pkl\n",
      "Loaded 1000 samples from: ../results/raw/small_dataset_allConfig_seed777/id_test_results_layer1:32:2_aggAll_prompt_so0_eo0_seed777.pkl\n"
     ]
    }
   ],
   "source": [
    "# Load test descriptors \n",
    "# -----------------------------------\n",
    "from src.data_reader.pickle_io import load_pickle_batches\n",
    "from src.utils.general import add_unanswerable_flag, filter_entries\n",
    "\n",
    "# Load extracted possible and impossible descriptors \n",
    "od_test_data = load_pickle_batches(f\"{OUTPUT_DIR}od_test_results{OUTPUT_TITLE}.pkl\")\n",
    "id_test_data = load_pickle_batches(f\"{OUTPUT_DIR}id_test_results{OUTPUT_TITLE}.pkl\")\n",
    "\n",
    "# Add unanswerable flag: check if the generated answer contains 'unanswerable' keyword\n",
    "# Expect many 'unanswerable' flags in `od_test_data` and few in `id_test_data`, if model works well\n",
    "od_test_data = add_unanswerable_flag(od_test_data)\n",
    "id_test_data = add_unanswerable_flag(id_test_data)\n",
    "\n",
    "# Filter descriptors: keep only unanswerable answers for OOD, and only answerable answers for ID\n",
    "if False: #### TODO: ADAPT TO NEW CODE VERSION ####\n",
    "    od_test_data = filter_entries(od_test_data, column='is_unanswerable', value=1)\n",
    "    id_test_data = filter_entries(id_test_data, column='is_unanswerable', value=0)"
   ]
  },
  {
   "cell_type": "code",
   "execution_count": 15,
   "metadata": {},
   "outputs": [],
   "source": [
    "# Result DataFrame: Initialization with sample indexes and 'unanswerable' flag\n",
    "# -----------------------------------\n",
    "n_id  = len(id_test_data['id'])\n",
    "n_ood = len(od_test_data['id'])\n",
    "df_result = pd.DataFrame({\n",
    "    'set': ['ID'] * n_id + ['OOD'] * n_ood,\n",
    "    'index': list(range(n_id)) + list(range(n_ood)),\n",
    "})\n",
    "df_result['is_unanswerable'] = np.concatenate([\n",
    "    id_test_data['is_unanswerable'],\n",
    "    od_test_data['is_unanswerable']\n",
    "])"
   ]
  },
  {
   "cell_type": "markdown",
   "metadata": {},
   "source": [
    "### 2. Evaluate one configuration"
   ]
  },
  {
   "cell_type": "markdown",
   "metadata": {},
   "source": [
    "#### 2.1. Extract one config from result dict"
   ]
  },
  {
   "cell_type": "code",
   "execution_count": 16,
   "metadata": {},
   "outputs": [
    {
     "name": "stdout",
     "output_type": "stream",
     "text": [
      "{'layers': [-1, 1, 3, 5, 7, 9, 11, 13, 15, 17, 19, 21, 23, 25, 27, 29], 'hidden_aggs_by_layer': {-1: ['avg_emb', 'feat_var_emb', 'first_gen_emb', 'hidden_score', 'last_emb', 'max_emb'], 1: ['avg_emb', 'feat_var_emb', 'first_gen_emb', 'hidden_score', 'last_emb', 'max_emb'], 3: ['avg_emb', 'feat_var_emb', 'first_gen_emb', 'hidden_score', 'last_emb', 'max_emb'], 5: ['avg_emb', 'feat_var_emb', 'first_gen_emb', 'hidden_score', 'last_emb', 'max_emb'], 7: ['avg_emb', 'feat_var_emb', 'first_gen_emb', 'hidden_score', 'last_emb', 'max_emb'], 9: ['avg_emb', 'feat_var_emb', 'first_gen_emb', 'hidden_score', 'last_emb', 'max_emb'], 11: ['avg_emb', 'feat_var_emb', 'first_gen_emb', 'hidden_score', 'last_emb', 'max_emb'], 13: ['avg_emb', 'feat_var_emb', 'first_gen_emb', 'hidden_score', 'last_emb', 'max_emb'], 15: ['avg_emb', 'feat_var_emb', 'first_gen_emb', 'hidden_score', 'last_emb', 'max_emb'], 17: ['avg_emb', 'feat_var_emb', 'first_gen_emb', 'hidden_score', 'last_emb', 'max_emb'], 19: ['avg_emb', 'feat_var_emb', 'first_gen_emb', 'hidden_score', 'last_emb', 'max_emb'], 21: ['avg_emb', 'feat_var_emb', 'first_gen_emb', 'hidden_score', 'last_emb', 'max_emb'], 23: ['avg_emb', 'feat_var_emb', 'first_gen_emb', 'hidden_score', 'last_emb', 'max_emb'], 25: ['avg_emb', 'feat_var_emb', 'first_gen_emb', 'hidden_score', 'last_emb', 'max_emb'], 27: ['avg_emb', 'feat_var_emb', 'first_gen_emb', 'hidden_score', 'last_emb', 'max_emb'], 29: ['avg_emb', 'feat_var_emb', 'first_gen_emb', 'hidden_score', 'last_emb', 'max_emb']}, 'attn_aggs_by_layer': {-1: ['attn_score'], 1: ['attn_score'], 3: ['attn_score'], 5: ['attn_score'], 7: ['attn_score'], 9: ['attn_score'], 11: ['attn_score'], 13: ['attn_score'], 15: ['attn_score'], 17: ['attn_score'], 19: ['attn_score'], 21: ['attn_score'], 23: ['attn_score'], 25: ['attn_score'], 27: ['attn_score'], 29: ['attn_score']}, 'logits_aggs_by_layer': {-1: ['logit_entropy_score', 'perplexity_score', 'window_logit_entropy_score'], 1: ['logit_entropy_score', 'perplexity_score', 'window_logit_entropy_score'], 3: ['logit_entropy_score', 'perplexity_score', 'window_logit_entropy_score'], 5: ['logit_entropy_score', 'perplexity_score', 'window_logit_entropy_score'], 7: ['logit_entropy_score', 'perplexity_score', 'window_logit_entropy_score'], 9: ['logit_entropy_score', 'perplexity_score', 'window_logit_entropy_score'], 11: ['logit_entropy_score', 'perplexity_score', 'window_logit_entropy_score'], 13: ['logit_entropy_score', 'perplexity_score', 'window_logit_entropy_score'], 15: ['logit_entropy_score', 'perplexity_score', 'window_logit_entropy_score'], 17: ['logit_entropy_score', 'perplexity_score', 'window_logit_entropy_score'], 19: ['logit_entropy_score', 'perplexity_score', 'window_logit_entropy_score'], 21: ['logit_entropy_score', 'perplexity_score', 'window_logit_entropy_score'], 23: ['logit_entropy_score', 'perplexity_score', 'window_logit_entropy_score'], 25: ['logit_entropy_score', 'perplexity_score', 'window_logit_entropy_score'], 27: ['logit_entropy_score', 'perplexity_score', 'window_logit_entropy_score'], 29: ['logit_entropy_score', 'perplexity_score', 'window_logit_entropy_score']}}\n"
     ]
    }
   ],
   "source": [
    "# Visualize all configurations available from loaded descriptors `id_fit_data`\n",
    "# -----------------------------------\n",
    "from src.analysis.analyze_ood_results import discover_config_space\n",
    "\n",
    "space = discover_config_space(id_fit_data)\n",
    "print(space)"
   ]
  },
  {
   "cell_type": "code",
   "execution_count": 17,
   "metadata": {},
   "outputs": [],
   "source": [
    "# Choose 1 configuration (layer, aggregation group, aggregation mode)\n",
    "# -----------------------------------\n",
    "TARGET_LAYER = -1\n",
    "AGG_GROUP = 'hidden'              # logit, attention, hidden\n",
    "\n",
    "AGG_MODE = 'avg_emb' # perplexity_score, logit_entropy_score, window_logit_entropy_score, \n",
    "                                 # attn_score, avg_emb, last_emb, max_emb, first_gen_emb, \n",
    "                                 # feat_var_emb, hidden_score"
   ]
  },
  {
   "cell_type": "code",
   "execution_count": 18,
   "metadata": {},
   "outputs": [],
   "source": [
    "# Select one configuration (layer, group, aggregation) from all the available descriptors\n",
    "# -----------------------------------\n",
    "from src.analysis.analyze_ood_results import retrieve_one_config_from_dict\n",
    "\n",
    "id_fit_descriptors  = retrieve_one_config_from_dict(id_fit_data,  layer=TARGET_LAYER, group=AGG_GROUP, aggregation=AGG_MODE)\n",
    "id_test_descriptors = retrieve_one_config_from_dict(id_test_data, layer=TARGET_LAYER, group=AGG_GROUP, aggregation=AGG_MODE)\n",
    "od_test_descriptors = retrieve_one_config_from_dict(od_test_data, layer=TARGET_LAYER, group=AGG_GROUP, aggregation=AGG_MODE)"
   ]
  },
  {
   "cell_type": "markdown",
   "metadata": {},
   "source": [
    "#### 2.2. Compute OOD scores for the chosen config"
   ]
  },
  {
   "cell_type": "code",
   "execution_count": 19,
   "metadata": {},
   "outputs": [],
   "source": [
    "# Define OOD methods configs\n",
    "# -----------------------------------\n",
    "config_dknn = {'k': 5, 'batch_size': BATCH_SIZE} # DKNN config\n",
    "config_cosine = {'center_type':'all', 'seed': SEED, 'k': 5, 'batch_size': BATCH_SIZE} # Cosine Similarity config\n",
    "config_maha = {'center_type':'mean', 'seed': SEED, 'k': 5} # Mahalanobis config\n",
    "config_ocsvm = {'kernel':'rbf', 'nu': 0.1, 'gamma': 'scale'} # OCSVM config\n",
    "config_isoforest = {'n_estimators':1000, 'contamination': 'auto', 'seed': SEED} # Isolation forest config"
   ]
  },
  {
   "cell_type": "code",
   "execution_count": 21,
   "metadata": {},
   "outputs": [
    {
     "name": "stdout",
     "output_type": "stream",
     "text": [
      "Mean of ID scores: 0.3977839524149895\n",
      "Mean of OOD scores: 0.4010732932686806\n"
     ]
    }
   ],
   "source": [
    "# Compute OOD scores:\n",
    "# If the descriptors are embeddings (2D tensors):\n",
    "#   - Compute OOD scores using OOD detection methods\n",
    "#   - Choose `method` in {'dknn', 'cosine', 'mahalanobis', 'ocsvm', 'isoforest'} with matching config\n",
    "# If the descriptros are already 1D scores:\n",
    "#   - Use them directly as OOD scores; do not apply OOD methods \n",
    "#   - Choose `method='raw_scores'` ;  config is ignored.\n",
    "# -----------------------------------\n",
    "from src.ood_methods.ood_main import compute_ood_scores\n",
    "\n",
    "# **Convention**: high OOD score => OOD data ; low OOD score => ID data\n",
    "scores_id, scores_ood = compute_ood_scores(\n",
    "    method='dknn',\n",
    "    id_fit_descriptors=id_fit_descriptors,\n",
    "    id_test_descriptors=id_test_descriptors,\n",
    "    od_test_descriptors=od_test_descriptors,\n",
    "    **config_dknn\n",
    ")\n",
    "print(\"Mean of ID scores:\", np.mean(scores_id))\n",
    "print(\"Mean of OOD scores:\", np.mean(scores_ood))\n",
    "\n",
    "\n",
    "# Result DataFrame: Add ood scores\n",
    "# -----------------------------------\n",
    "df_result['ood_score'] = np.concatenate([scores_id, scores_ood])"
   ]
  },
  {
   "cell_type": "markdown",
   "metadata": {},
   "source": [
    "#### 2.3. Evaluate OOD scores (unsupervised)"
   ]
  },
  {
   "cell_type": "code",
   "execution_count": 22,
   "metadata": {},
   "outputs": [
    {
     "data": {
      "image/png": "[encoded data removed]",
      "text/plain": [
       "<Figure size 1000x600 with 1 Axes>"
      ]
     },
     "metadata": {},
     "output_type": "display_data"
    },
    {
     "data": {
      "image/png": "[encoded data removed]",
      "text/plain": [
       "<Figure size 1000x600 with 1 Axes>"
      ]
     },
     "metadata": {},
     "output_type": "display_data"
    }
   ],
   "source": [
    "# Plot ID and OOD score distributions \n",
    "# -----------------------------------\n",
    "from src.analysis.visualization import plot_score_distributions_kde, plot_score_distributions_hist\n",
    "plot_score_distributions_kde(\n",
    "    scores_id=scores_id,\n",
    "    scores_ood=scores_ood,\n",
    "    title=\"Distribution of ID and OOD scores\",\n",
    "    xlabel=\"ID and OOD scores\"\n",
    "    #save_path = f\"{PLOT_DIR}densities{OUTPUT_TITLE}_k{k}.png\"\n",
    ")\n",
    "\n",
    "plot_score_distributions_hist(\n",
    "    scores_id=scores_id,\n",
    "    scores_ood=scores_ood,\n",
    "    title=\"Distribution of ID and OOD scores\",\n",
    "    xlabel=\"ID and OOD scores\"\n",
    "    #save_path = f\"{PLOT_DIR}densities{OUTPUT_TITLE}_k{k}.png\"\n",
    ")"
   ]
  },
  {
   "cell_type": "code",
   "execution_count": 23,
   "metadata": {},
   "outputs": [
    {
     "name": "stdout",
     "output_type": "stream",
     "text": [
      "auROC: 0.5110\n",
      "FPR95: 0.9590\n",
      "AUC-PR: 0.5174\n",
      "Optimal Threshold (target_tpr): 0.2889\n"
     ]
    },
    {
     "data": {
      "image/png": "[encoded data removed]",
      "text/plain": [
       "<Figure size 640x480 with 1 Axes>"
      ]
     },
     "metadata": {},
     "output_type": "display_data"
    }
   ],
   "source": [
    "# Compute and plot auroc \n",
    "# -----------------------------------\n",
    "from src.analysis.evaluation import compute_metrics\n",
    "auroc, fpr95, auc_pr, fpr, tpr, thresholds, selected_threshold = compute_metrics(\n",
    "    scores_id=scores_id, \n",
    "    scores_ood=scores_ood, \n",
    "    plot=True,\n",
    "    threshold_strategy='target_tpr', # 'youden', 'target_tpr'\n",
    "    target_tpr = 0.95,\n",
    "    #save_path= f\"{PLOT_DIR}roc{OUTPUT_TITLE}_k{k}.png\"\n",
    ")"
   ]
  },
  {
   "cell_type": "markdown",
   "metadata": {},
   "source": [
    "ᓚ₍ ^. ̫ .^₎"
   ]
  },
  {
   "cell_type": "code",
   "execution_count": 25,
   "metadata": {},
   "outputs": [
    {
     "name": "stdout",
     "output_type": "stream",
     "text": [
      "Accuracy: 0.4940\n",
      "F1 score: 0.6518\n",
      "Precision: 0.4969\n",
      "Recall: 0.9470\n"
     ]
    },
    {
     "data": {
      "image/png": "[encoded data removed]",
      "text/plain": [
       "<Figure size 500x400 with 2 Axes>"
      ]
     },
     "metadata": {},
     "output_type": "display_data"
    }
   ],
   "source": [
    "# Generate labels for each test point => 2 possible labels \n",
    "# Predicted class is assigned as follows:\n",
    "#    - score >  threshold -> predicted OOD (label 1)\n",
    "#    - score <= threshold -> predicted ID (label 0)\n",
    "# -----------------------------------\n",
    "# Ground-truth labels: 0=ID, 1=OOD\n",
    "y_true_thresh = np.concatenate((\n",
    "    np.zeros(len(scores_id)),\n",
    "    np.ones(len(scores_ood))\n",
    "))\n",
    "# Predicted labels based on threshold: 0=ID, 1=OOD\n",
    "y_pred_thresh = np.concatenate((\n",
    "    (scores_id  > selected_threshold).astype(int), \n",
    "    (scores_ood > selected_threshold).astype(int)\n",
    "))\n",
    "\n",
    "# Result DataFrame: Add 2 class labels (based on Youden's threshold)\n",
    "# -----------------------------------\n",
    "df_result['label_2class'] = y_pred_thresh\n",
    "\n",
    "# Compute confusion matrix\n",
    "# -----------------------------------\n",
    "from src.analysis.evaluation import compute_confusion_matrix_and_metrics\n",
    "cm, accuracy, f1, precision, recall = compute_confusion_matrix_and_metrics(\n",
    "    y_true=y_true_thresh,\n",
    "    y_pred=y_pred_thresh,\n",
    "    plot= True,\n",
    "    normalize=True,\n",
    ")"
   ]
  },
  {
   "cell_type": "code",
   "execution_count": 26,
   "metadata": {},
   "outputs": [
    {
     "data": {
      "image/png": "[encoded data removed]",
      "text/plain": [
       "<Figure size 550x450 with 2 Axes>"
      ]
     },
     "metadata": {},
     "output_type": "display_data"
    }
   ],
   "source": [
    "# Plot confusion matrix with unanswerable/answerable split\n",
    "# -----------------------------------\n",
    "from src.analysis.evaluation import compute_confusion_matrix_with_attribute_split\n",
    "\n",
    "compute_confusion_matrix_with_attribute_split(\n",
    "    y_true=y_true_thresh,\n",
    "    y_pred=y_pred_thresh,\n",
    "    attribute=df_result[\"is_unanswerable\"].values,\n",
    "    attr_labels=(\"A\", \"U\"), \n",
    "    attr_true_value=True,\n",
    "    normalize=True \n",
    ")"
   ]
  },
  {
   "cell_type": "markdown",
   "metadata": {},
   "source": [
    "#### 2.4. Linear Probing on OOD scores (supervised)"
   ]
  },
  {
   "cell_type": "code",
   "execution_count": 27,
   "metadata": {},
   "outputs": [
    {
     "name": "stdout",
     "output_type": "stream",
     "text": [
      "Accuracy: 0.6100\n",
      "F1 score: 0.5979\n",
      "Precision: 0.6170\n",
      "Recall: 0.5800\n"
     ]
    },
    {
     "data": {
      "image/png": "[encoded data removed]",
      "text/plain": [
       "<Figure size 500x400 with 2 Axes>"
      ]
     },
     "metadata": {},
     "output_type": "display_data"
    }
   ],
   "source": [
    "# Perform logistic regression \n",
    "# -----------------------------------\n",
    "from src.analysis.evaluation import compute_confusion_matrix_and_metrics\n",
    "from src.ood_methods.logistic_regression import train_logistic_regression_on_descriptors\n",
    "from src.analysis.analyze_ood_results import ensure_2d\n",
    "\n",
    "clf, y_true_probe, y_pred_probe, idx_test = train_logistic_regression_on_descriptors(\n",
    "    ensure_2d(id_test_descriptors), ensure_2d(od_test_descriptors), random_state=SEED, test_size=0.1\n",
    ")\n",
    "cm, accuracy, f1, precision, recall = compute_confusion_matrix_and_metrics(\n",
    "    y_true=y_true_probe,\n",
    "    y_pred=y_pred_probe,\n",
    "    plot=True,\n",
    "    normalize=True,\n",
    ") \n",
    "\n",
    "# Result DataFrame: Add labels predicted by logistic regression\n",
    "# -----------------------------------\n",
    "df_result['label_probing'] = np.nan  # init with NaN\n",
    "df_result.loc[idx_test, 'label_probing'] = y_pred_probe.astype(int)"
   ]
  },
  {
   "cell_type": "markdown",
   "metadata": {},
   "source": [
    "### 3. Visualize one configuration"
   ]
  },
  {
   "cell_type": "code",
   "execution_count": 28,
   "metadata": {},
   "outputs": [
    {
     "data": {
      "application/vnd.plotly.v1+json": {
       "config": {
        "plotlyServerURL": "https://plot.ly"
       },
       "data": [
        {
         "marker": {
          "color": "royalblue",
          "size": 3
         },
         "mode": "markers",
         "name": "ID test samples",
         "type": "scatter3d",
         "x": {
          "bdata": "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",
          "dtype": "f4"
         },
         "y": {
          "bdata": "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",
          "dtype": "f4"
         },
         "z": {
          "bdata": "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",
          "dtype": "f4"
         }
        },
        {
         "marker": {
          "color": "crimson",
          "size": 3
         },
         "mode": "markers",
         "name": "OOD test samples",
         "type": "scatter3d",
         "x": {
          "bdata": "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",
          "dtype": "f4"
         },
         "y": {
          "bdata": "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",
          "dtype": "f4"
         },
         "z": {
          "bdata": "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",
          "dtype": "f4"
         }
        }
       ],
       "layout": {
        "legend": {
         "font": {
          "size": 12
         }
        },
        "scene": {
         "aspectmode": "cube",
         "xaxis": {
          "title": {
           "text": "PC1"
          }
         },
         "yaxis": {
          "title": {
           "text": "PC2"
          }
         },
         "zaxis": {
          "title": {
           "text": "PC3"
          }
         }
        },
        "template": {
         "data": {
          "bar": [
           {
            "error_x": {
             "color": "#2a3f5f"
            },
            "error_y": {
             "color": "#2a3f5f"
            },
            "marker": {
             "line": {
              "color": "#E5ECF6",
              "width": 0.5
             },
             "pattern": {
              "fillmode": "overlay",
              "size": 10,
              "solidity": 0.2
             }
            },
            "type": "bar"
           }
          ],
          "barpolar": [
           {
            "marker": {
             "line": {
              "color": "#E5ECF6",
              "width": 0.5
             },
             "pattern": {
              "fillmode": "overlay",
              "size": 10,
              "solidity": 0.2
             }
            },
            "type": "barpolar"
           }
          ],
          "carpet": [
           {
            "aaxis": {
             "endlinecolor": "#2a3f5f",
             "gridcolor": "white",
             "linecolor": "white",
             "minorgridcolor": "white",
             "startlinecolor": "#2a3f5f"
            },
            "baxis": {
             "endlinecolor": "#2a3f5f",
             "gridcolor": "white",
             "linecolor": "white",
             "minorgridcolor": "white",
             "startlinecolor": "#2a3f5f"
            },
            "type": "carpet"
           }
          ],
          "choropleth": [
           {
            "colorbar": {
             "outlinewidth": 0,
             "ticks": ""
            },
            "type": "choropleth"
           }
          ],
          "contour": [
           {
            "colorbar": {
             "outlinewidth": 0,
             "ticks": ""
            },
            "colorscale": [
             [
              0,
              "#0d0887"
             ],
             [
              0.1111111111111111,
              "#46039f"
             ],
             [
              0.2222222222222222,
              "#7201a8"
             ],
             [
              0.3333333333333333,
              "#9c179e"
             ],
             [
              0.4444444444444444,
              "#bd3786"
             ],
             [
              0.5555555555555556,
              "#d8576b"
             ],
             [
              0.6666666666666666,
              "#ed7953"
             ],
             [
              0.7777777777777778,
              "#fb9f3a"
             ],
             [
              0.8888888888888888,
              "#fdca26"
             ],
             [
              1,
              "#f0f921"
             ]
            ],
            "type": "contour"
           }
          ],
          "contourcarpet": [
           {
            "colorbar": {
             "outlinewidth": 0,
             "ticks": ""
            },
            "type": "contourcarpet"
           }
          ],
          "heatmap": [
           {
            "colorbar": {
             "outlinewidth": 0,
             "ticks": ""
            },
            "colorscale": [
             [
              0,
              "#0d0887"
             ],
             [
              0.1111111111111111,
              "#46039f"
             ],
             [
              0.2222222222222222,
              "#7201a8"
             ],
             [
              0.3333333333333333,
              "#9c179e"
             ],
             [
              0.4444444444444444,
              "#bd3786"
             ],
             [
              0.5555555555555556,
              "#d8576b"
             ],
             [
              0.6666666666666666,
              "#ed7953"
             ],
             [
              0.7777777777777778,
              "#fb9f3a"
             ],
             [
              0.8888888888888888,
              "#fdca26"
             ],
             [
              1,
              "#f0f921"
             ]
            ],
            "type": "heatmap"
           }
          ],
          "histogram": [
           {
            "marker": {
             "pattern": {
              "fillmode": "overlay",
              "size": 10,
              "solidity": 0.2
             }
            },
            "type": "histogram"
           }
          ],
          "histogram2d": [
           {
            "colorbar": {
             "outlinewidth": 0,
             "ticks": ""
            },
            "colorscale": [
             [
              0,
              "#0d0887"
             ],
             [
              0.1111111111111111,
              "#46039f"
             ],
             [
              0.2222222222222222,
              "#7201a8"
             ],
             [
              0.3333333333333333,
              "#9c179e"
             ],
             [
              0.4444444444444444,
              "#bd3786"
             ],
             [
              0.5555555555555556,
              "#d8576b"
             ],
             [
              0.6666666666666666,
              "#ed7953"
             ],
             [
              0.7777777777777778,
              "#fb9f3a"
             ],
             [
              0.8888888888888888,
              "#fdca26"
             ],
             [
              1,
              "#f0f921"
             ]
            ],
            "type": "histogram2d"
           }
          ],
          "histogram2dcontour": [
           {
            "colorbar": {
             "outlinewidth": 0,
             "ticks": ""
            },
            "colorscale": [
             [
              0,
              "#0d0887"
             ],
             [
              0.1111111111111111,
              "#46039f"
             ],
             [
              0.2222222222222222,
              "#7201a8"
             ],
             [
              0.3333333333333333,
              "#9c179e"
             ],
             [
              0.4444444444444444,
              "#bd3786"
             ],
             [
              0.5555555555555556,
              "#d8576b"
             ],
             [
              0.6666666666666666,
              "#ed7953"
             ],
             [
              0.7777777777777778,
              "#fb9f3a"
             ],
             [
              0.8888888888888888,
              "#fdca26"
             ],
             [
              1,
              "#f0f921"
             ]
            ],
            "type": "histogram2dcontour"
           }
          ],
          "mesh3d": [
           {
            "colorbar": {
             "outlinewidth": 0,
             "ticks": ""
            },
            "type": "mesh3d"
           }
          ],
          "parcoords": [
           {
            "line": {
             "colorbar": {
              "outlinewidth": 0,
              "ticks": ""
             }
            },
            "type": "parcoords"
           }
          ],
          "pie": [
           {
            "automargin": true,
            "type": "pie"
           }
          ],
          "scatter": [
           {
            "fillpattern": {
             "fillmode": "overlay",
             "size": 10,
             "solidity": 0.2
            },
            "type": "scatter"
           }
          ],
          "scatter3d": [
           {
            "line": {
             "colorbar": {
              "outlinewidth": 0,
              "ticks": ""
             }
            },
            "marker": {
             "colorbar": {
              "outlinewidth": 0,
              "ticks": ""
             }
            },
            "type": "scatter3d"
           }
          ],
          "scattercarpet": [
           {
            "marker": {
             "colorbar": {
              "outlinewidth": 0,
              "ticks": ""
             }
            },
            "type": "scattercarpet"
           }
          ],
          "scattergeo": [
           {
            "marker": {
             "colorbar": {
              "outlinewidth": 0,
              "ticks": ""
             }
            },
            "type": "scattergeo"
           }
          ],
          "scattergl": [
           {
            "marker": {
             "colorbar": {
              "outlinewidth": 0,
              "ticks": ""
             }
            },
            "type": "scattergl"
           }
          ],
          "scattermap": [
           {
            "marker": {
             "colorbar": {
              "outlinewidth": 0,
              "ticks": ""
             }
            },
            "type": "scattermap"
           }
          ],
          "scattermapbox": [
           {
            "marker": {
             "colorbar": {
              "outlinewidth": 0,
              "ticks": ""
             }
            },
            "type": "scattermapbox"
           }
          ],
          "scatterpolar": [
           {
            "marker": {
             "colorbar": {
              "outlinewidth": 0,
              "ticks": ""
             }
            },
            "type": "scatterpolar"
           }
          ],
          "scatterpolargl": [
           {
            "marker": {
             "colorbar": {
              "outlinewidth": 0,
              "ticks": ""
             }
            },
            "type": "scatterpolargl"
           }
          ],
          "scatterternary": [
           {
            "marker": {
             "colorbar": {
              "outlinewidth": 0,
              "ticks": ""
             }
            },
            "type": "scatterternary"
           }
          ],
          "surface": [
           {
            "colorbar": {
             "outlinewidth": 0,
             "ticks": ""
            },
            "colorscale": [
             [
              0,
              "#0d0887"
             ],
             [
              0.1111111111111111,
              "#46039f"
             ],
             [
              0.2222222222222222,
              "#7201a8"
             ],
             [
              0.3333333333333333,
              "#9c179e"
             ],
             [
              0.4444444444444444,
              "#bd3786"
             ],
             [
              0.5555555555555556,
              "#d8576b"
             ],
             [
              0.6666666666666666,
              "#ed7953"
             ],
             [
              0.7777777777777778,
              "#fb9f3a"
             ],
             [
              0.8888888888888888,
              "#fdca26"
             ],
             [
              1,
              "#f0f921"
             ]
            ],
            "type": "surface"
           }
          ],
          "table": [
           {
            "cells": {
             "fill": {
              "color": "#EBF0F8"
             },
             "line": {
              "color": "white"
             }
            },
            "header": {
             "fill": {
              "color": "#C8D4E3"
             },
             "line": {
              "color": "white"
             }
            },
            "type": "table"
           }
          ]
         },
         "layout": {
          "annotationdefaults": {
           "arrowcolor": "#2a3f5f",
           "arrowhead": 0,
           "arrowwidth": 1
          },
          "autotypenumbers": "strict",
          "coloraxis": {
           "colorbar": {
            "outlinewidth": 0,
            "ticks": ""
           }
          },
          "colorscale": {
           "diverging": [
            [
             0,
             "#8e0152"
            ],
            [
             0.1,
             "#c51b7d"
            ],
            [
             0.2,
             "#de77ae"
            ],
            [
             0.3,
             "#f1b6da"
            ],
            [
             0.4,
             "#fde0ef"
            ],
            [
             0.5,
             "#f7f7f7"
            ],
            [
             0.6,
             "#e6f5d0"
            ],
            [
             0.7,
             "#b8e186"
            ],
            [
             0.8,
             "#7fbc41"
            ],
            [
             0.9,
             "#4d9221"
            ],
            [
             1,
             "#276419"
            ]
           ],
           "sequential": [
            [
             0,
             "#0d0887"
            ],
            [
             0.1111111111111111,
             "#46039f"
            ],
            [
             0.2222222222222222,
             "#7201a8"
            ],
            [
             0.3333333333333333,
             "#9c179e"
            ],
            [
             0.4444444444444444,
             "#bd3786"
            ],
            [
             0.5555555555555556,
             "#d8576b"
            ],
            [
             0.6666666666666666,
             "#ed7953"
            ],
            [
             0.7777777777777778,
             "#fb9f3a"
            ],
            [
             0.8888888888888888,
             "#fdca26"
            ],
            [
             1,
             "#f0f921"
            ]
           ],
           "sequentialminus": [
            [
             0,
             "#0d0887"
            ],
            [
             0.1111111111111111,
             "#46039f"
            ],
            [
             0.2222222222222222,
             "#7201a8"
            ],
            [
             0.3333333333333333,
             "#9c179e"
            ],
            [
             0.4444444444444444,
             "#bd3786"
            ],
            [
             0.5555555555555556,
             "#d8576b"
            ],
            [
             0.6666666666666666,
             "#ed7953"
            ],
            [
             0.7777777777777778,
             "#fb9f3a"
            ],
            [
             0.8888888888888888,
             "#fdca26"
            ],
            [
             1,
             "#f0f921"
            ]
           ]
          },
          "colorway": [
           "#636efa",
           "#EF553B",
           "#00cc96",
           "#ab63fa",
           "#FFA15A",
           "#19d3f3",
           "#FF6692",
           "#B6E880",
           "#FF97FF",
           "#FECB52"
          ],
          "font": {
           "color": "#2a3f5f"
          },
          "geo": {
           "bgcolor": "white",
           "lakecolor": "white",
           "landcolor": "#E5ECF6",
           "showlakes": true,
           "showland": true,
           "subunitcolor": "white"
          },
          "hoverlabel": {
           "align": "left"
          },
          "hovermode": "closest",
          "mapbox": {
           "style": "light"
          },
          "paper_bgcolor": "white",
          "plot_bgcolor": "#E5ECF6",
          "polar": {
           "angularaxis": {
            "gridcolor": "white",
            "linecolor": "white",
            "ticks": ""
           },
           "bgcolor": "#E5ECF6",
           "radialaxis": {
            "gridcolor": "white",
            "linecolor": "white",
            "ticks": ""
           }
          },
          "scene": {
           "xaxis": {
            "backgroundcolor": "#E5ECF6",
            "gridcolor": "white",
            "gridwidth": 2,
            "linecolor": "white",
            "showbackground": true,
            "ticks": "",
            "zerolinecolor": "white"
           },
           "yaxis": {
            "backgroundcolor": "#E5ECF6",
            "gridcolor": "white",
            "gridwidth": 2,
            "linecolor": "white",
            "showbackground": true,
            "ticks": "",
            "zerolinecolor": "white"
           },
           "zaxis": {
            "backgroundcolor": "#E5ECF6",
            "gridcolor": "white",
            "gridwidth": 2,
            "linecolor": "white",
            "showbackground": true,
            "ticks": "",
            "zerolinecolor": "white"
           }
          },
          "shapedefaults": {
           "line": {
            "color": "#2a3f5f"
           }
          },
          "ternary": {
           "aaxis": {
            "gridcolor": "white",
            "linecolor": "white",
            "ticks": ""
           },
           "baxis": {
            "gridcolor": "white",
            "linecolor": "white",
            "ticks": ""
           },
           "bgcolor": "#E5ECF6",
           "caxis": {
            "gridcolor": "white",
            "linecolor": "white",
            "ticks": ""
           }
          },
          "title": {
           "x": 0.05
          },
          "xaxis": {
           "automargin": true,
           "gridcolor": "white",
           "linecolor": "white",
           "ticks": "",
           "title": {
            "standoff": 15
           },
           "zerolinecolor": "white",
           "zerolinewidth": 2
          },
          "yaxis": {
           "automargin": true,
           "gridcolor": "white",
           "linecolor": "white",
           "ticks": "",
           "title": {
            "standoff": 15
           },
           "zerolinecolor": "white",
           "zerolinewidth": 2
          }
         }
        },
        "title": {
         "text": "3D PCA of test embeddings"
        }
       }
      }
     },
     "metadata": {},
     "output_type": "display_data"
    },
    {
     "data": {
      "text/plain": [
       "'\\n_ = plot_dim_reduction_3d_embeddings(\\n    id_test_embeddings=id_test_descriptors, \\n    od_test_embeddings=od_test_descriptors, \\n    labels_id=None, \\n    labels_ood=None,\\n    tsne_config=tsne_config\\n)\\n\\n# --- UMAP only ---\\n_ = plot_dim_reduction_3d_embeddings(\\n    id_test_embeddings=id_test_descriptors, \\n    od_test_embeddings=od_test_descriptors, \\n    labels_id=None, \\n    labels_ood=None,\\n    umap_config=umap_config\\n)\\n'"
      ]
     },
     "execution_count": 28,
     "metadata": {},
     "output_type": "execute_result"
    }
   ],
   "source": [
    "# Plot PCA, t-SNE and UMAP of unclassified samples  \n",
    "# NOTE: only available for 2D embedding descriptors (will produce error for 1D descriptors)\n",
    "# -----------------------------------\n",
    "from src.analysis.visualization import plot_dim_reduction_3d_embeddings\n",
    "\n",
    "pca_config = {'n_components': 3}\n",
    "tsne_config = {'n_components': 3, 'perplexity': 50}\n",
    "umap_config = {'n_components': 3, 'n_neighbors': 15, 'min_dist': 0.1}\n",
    "\n",
    "# --- PCA only ---\n",
    "_ = plot_dim_reduction_3d_embeddings(\n",
    "    id_test_embeddings=id_test_descriptors, #[N,D]\n",
    "    od_test_embeddings=od_test_descriptors, \n",
    "    labels_id=None, \n",
    "    labels_ood=None,\n",
    "    pca_config=pca_config\n",
    ")\n",
    "\n",
    "# --- t-SNE only ---\n",
    "'''\n",
    "_ = plot_dim_reduction_3d_embeddings(\n",
    "    id_test_embeddings=id_test_descriptors, \n",
    "    od_test_embeddings=od_test_descriptors, \n",
    "    labels_id=None, \n",
    "    labels_ood=None,\n",
    "    tsne_config=tsne_config\n",
    ")\n",
    "\n",
    "# --- UMAP only ---\n",
    "_ = plot_dim_reduction_3d_embeddings(\n",
    "    id_test_embeddings=id_test_descriptors, \n",
    "    od_test_embeddings=od_test_descriptors, \n",
    "    labels_id=None, \n",
    "    labels_ood=None,\n",
    "    umap_config=umap_config\n",
    ")\n",
    "'''"
   ]
  },
  {
   "cell_type": "code",
   "execution_count": 29,
   "metadata": {},
   "outputs": [],
   "source": [
    "# Generate labels for each test point => 4 possible labels \n",
    "# -----------------------------------\n",
    "'''\n",
    "Class 0: ID well classified  (true ID,  score < threshold)\n",
    "Class 1: OOD well classified (true OOD, score > threshold)\n",
    "Class 2: OOD not detected    (true OOD, score < threshold)\n",
    "Class 3: ID not detected     (true ID,  score > threshold)\n",
    "'''\n",
    "# Assumes that : Low score => ID, High score => OOD\n",
    "labels_id_thresh  = np.where(scores_id  < selected_threshold, 0, 3)   # 0: ID correct, 3: ID not detected\n",
    "labels_ood_thresh = np.where(scores_ood > selected_threshold, 1, 2)   # 1: OOD correct, 2: OOD not detected\n",
    "\n",
    "# Result DataFrame: Add 4 class labels (well/wrongly classified)\n",
    "# -----------------------------------\n",
    "df_result['label_4class'] = np.concatenate([labels_id_thresh, labels_ood_thresh])"
   ]
  },
  {
   "cell_type": "code",
   "execution_count": 30,
   "metadata": {},
   "outputs": [
    {
     "data": {
      "application/vnd.plotly.v1+json": {
       "config": {
        "plotlyServerURL": "https://plot.ly"
       },
       "data": [
        {
         "marker": {
          "color": "royalblue",
          "size": 3
         },
         "mode": "markers",
         "name": "Answerable ID - (identified)",
         "type": "scatter3d",
         "x": {
          "bdata": "Vc2AQQs30MDy2IdBV3hpQH9DYUHTpvY/E5GawBFSdsE6gOlACrCVwCHwtL9N7W5BvzmOwL73lcG5Fn5BJwy/wHpBu8Cwp1hAVM3JQTRpWUHmH5JBtp+UQY4r3UC5HYbBdQYYQQbaTkF9n4hBXcVtQdKBAj0R88VBo/eWQQ+fx79J0GFBDCgYQfI2uMAyLqBBNqFuQV0WykFxOItB6lekwAI0jkE=",
          "dtype": "f4"
         },
         "y": {
          "bdata": "Jh8fwW7MR0EJ1qFAIHIWQSPstMBC1QtBv6BBwVwMXcDQqi5BUo/DQVvwcEGfYo/A5Io7wa6Z4MAUIx/BxatIQZsVtEEL+BJBZU6pPyAb28AU9tzAqGjYwKqNkb9HsCDBFVv/QH5LL8FXYqRAFjoVweAUU8GunhJBnKUwQLCwb0FLVY7ARr3vQHURuUEWGPrAv3WrwGFxvkAJ6ATAFefAQVhc5L8=",
          "dtype": "f4"
         },
         "z": {
          "bdata": "iCV5QSMzGMAlRsFA8eeiwdc+RUHkiKzBYe8OQVxKGkHkX2bB0VioQW1lNsHG2Ps/Suv/QMe3kEF3b4BBTrF/wGXFc0GWLKDBthWMQfoZmkBxy9lBn+PXQZ+oJME4ik5BY+kbwOouSUHSsK5BKDLWQb+MJMFdzUVBDn1fQZglN8EFVkBBrbt1v9eMZkE/zqdBqVcmQAdEdEGfkkRBwWeqQUDvNUE=",
          "dtype": "f4"
         }
        },
        {
         "marker": {
          "color": "crimson",
          "size": 3
         },
         "mode": "markers",
         "name": "Unanswerable OOD - (identified)",
         "type": "scatter3d",
         "x": {
          "bdata": "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",
          "dtype": "f4"
         },
         "y": {
          "bdata": "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",
          "dtype": "f4"
         },
         "z": {
          "bdata": "AUmhQMOra8FE5CJB0N+8QWeIGkAz0MZAdsMxQCxG2cDa3xFBQ9C4waOhtEGG4l1BZZwJwd2OPcG1MWVAMhBBQfSm4UA3XtPA8ZFnwZhFGcGCVv4/0gqmwFffJz+2WF7AEwrUwEkuRsG2uWfBV2+8QHeA3b/6+Z3BNchmPwOKtcFqM/RA4uiUwNS+vsCQYcM/qaArQdQe+L9XJqJBSTz2QYtbocDUqE5APbERQeooucCPl95AlRQRwVJXk8FYkkRApPV5QSF5/MDFg0tBySEIQTH74cDQtwVBFXkDQTyFA0DkZSLBCD7OQHPWez+nw9g+Wotrwdw9RMAJ7pzB5IyBwX97r8HYEm/BYXlRwfbwg0H0JHpAz9cnQcDrrUB5l5bBzSmywDRGakFrbBnANBQzwPXMLMEKFB5Bo1kHP7O/PkHsJc/A7PriQUkQ0EBk6fhAAip6QE3svUDSptDAfcm0wUc8YEEiKFXBuZ5WPg4V/0Cdv0BAUNkyQC5kgcGq/86/4/YtwUlyh8HEPeNAyR1zQZCXl0DOtZ/A8IYyQVPFgsDJSU1AaK6MwZgwV8G9LslAqtbgPwSic8BFG1hBGDqDQJ7ExEBQrnXBCk4kv0f+NkFUpEFBQMtiQQ2QoUERNqBAbCrzQNXOHMFj5r9AXIgFQcs4kUF3qxfBoAh5QNHsR8FUcqZAh6bhwJF48j9mP2JBJ3hjQfOKJUEm4KJA+c0TQucYAUFpC5JBjnOKQF0hp8Hd4OY/K5SAQB+hg8F3UZNABuPVvqqolUBvSM3AmLgcQZRTYcHVxoXBEOfFP3wPbD5yl6HAd4hpwJPv2D4YYo4/LhEHQKwpykAp26fBEIm2wT5uIcCoXilBH+HawIHN40Bw3XFAp0V0wRP74MBjhGXBp8aQQHh1qT/9+z/A22X2v7dpwkAQUg3An8p7wZtdPcEEOWXBH6ySQZHvBUG1YUa/p7vMv+osE0GDo8pAJK81QE3RTL5CuApBwBdTwT6saEAHJyNBvtBEQekCgUF+KKFBn+bWQJYFOcE1kEdA0ZNzQNgQZsAUZQG/UBMIQb+BUcHmJhlBVWKFQEB7lz9H/INB8sWAwdcGrMEZN5RBo6EtwXOsMcFButjATw4tQacLDED2CojBJaJCwVNmgkA0NFnB9ji2wTW+K8D6sgRBJ3fhQNu+BsAriWnBelpwwIrq0MFyWytBMiSsQb6OX0HccPtA8gQGwDMBCEEr1b/AwaNCwLKEM0AFcYu+XVO8vwnZs8FumplBGuZ3weUtBsFiXYVAsnd3wYEgs0HVJ8dAsSwHwfoSMEHBdVJBdeyNwbe88MB6UiRBcLQEwU6L1kHhhMfB7fs9wdv43j/TGNHBSaaFQFuPjUC9DjXATceAwcRmmsA3eFtBLSAeQcIskUDReOBAKW5/wTFacMHx4crAJ1dHQeQX10CvFxHBLUYYQQJiG0G/mi7BMN/HQH1iRkCFe4dBA7aJQAawFkFVd4lBJuGXwSvELUFHkmfBAD6OPx7EJ0FFDpDB5Z1QwTBTRcFyscVAjDZfQKqDLkDSSypBfRM/wX+UVsEgWInBXaqaQeFLQkD314XAxtERQvHU1kFnGj9BJM43wbMR6cEbiRBB83iGwTT9LcEm+NXAWDmwwRpXw8GDU0LBnSgiQD2xWkDVzR9BqSFvwZ8qH8FWLNVAamvMQIb5XkGm51zBHjbvwA0yoECygWzBrmuov6ti00AkJxzA5s2AwUvxmsFHNA5B0wluwdAayr/ent+/S7SAQIffMUHBLxLBttiGwDH4FEFqyB7AKeeMwRznrUBvHstAJmyLwQuS5j4jSl7BSfpOQcDNPMHGS7HBFBBnQOsjD8H8UDPBNIXKwPqKVMEDiQbBFMCHwAm9XsEJcaJAlNtVQQpdBEHQy4pB+C/LP5QGjEERwyBBs35EQRiM8cDr1uNBysdlwSRkn8APLz5BTtrCQADKyMFOdjQ/gtGPP8xQPkBoMpxB6CryP60BncEjPxxBrgYVQajkRsHzA51Bi5YMQQM/NEH38pU/jZzQvg+ZXb/s8slBtQmqwW5xkMFvgDDBR1K0P/qs10GECJXBfBarvul5YkGwqaTBnM4xQUCID0F7WEJBkPmawMNApEEwtGPBPLELQS4Hp0EYQs1AvD8DQTGh0j4lhefAEH1KQbX2pkEI7wk/wtCbwPlQhsH6a5vBqQ05wXpBDEETHTxByb7BwGRoW8Cb6dlADXViQQkZ6ED6AOG/KFdVQD7UYEGXBqjBAkdpwJtUYsEmmuA/NENnv22R80AWY8nAK12qQLtmSsGu1ijBiz4AQdawkr7YqFfBdKUQwNIUmUEGB0/Bf8CNwSF1HMEj8S7Bwp+uPyp5xMDjWLRA8/QEQeMhfMEQOylAgL2GwT/HKEH5qQXAfucGwUOzisEKq6E/g/ZlwUMtR8HtrvRAVdF2Pweet8D3lVTBy97KQAd+msGFwLFAU2ToPX9MAkGDvxPBdQLoQI60br/2n7bA/EuXwWETosGXRD4+SsqHPwIWpsGEBtPAI7+LwR+oKMGKqUhBOvihwd2P3MDdkOZAIUnIQH+Ch8ETzYs/rM2JQeKREUEzcGzBT/E8QXFqP0EE0k7BWRFkwf8iU8GCgaXBZ3BUwYz1Rr9WqkfASte1QH8GXMFnOgFBu9XOwbqlS0HBEGG/Akh3QLoG30AFRAvBSHhbQTV1BcCd2T7B/QFSwdPOmkGSjQDBEQq2wSFOYUGvEBpBGFg9QSl8MUG2nk1AUfCVwUvzvj+9a42/NV5ewI3WOMHwPB1Bx9gAQSf6h8HDRSBBLdWswHD5cMBeq1zBjcPOv2tOicBa913BbHfswU/tWD/zFxTBvUwOP+F80z/yaQPBkexjwc4tYEB3KFdBgskvQTC+8UAc0/LACNADQXhdpMGmzEXBb8iyQbU7scBhL5BAp5+tQEWzHEA8TkHBxYHhQPaOEsD0qgNBgcA8warshkFNFYdBolSrwa2QUEDm1DTBg9TJQAUFmEBcs0nBNlaEQSE0aEEnKWzBXx2iQQyj9sDCXKtAE3ImQZycuUA+NhlAvgjrQGz+3kA6NA1BAFLBQLSiPMEnF6pAtoAUQZ9TjUD5MjFB89cDQTDhqEDvu6nB80mUwUWtxUDWVbPBaRZ4wT7qhsGq+TtBvdI+wftihEHzWTnBMtKzvyWh+MAK7EPBz5xOQMPXLUBdWERB+cdMQYMPCEERZGFBiY0CQKMELsBu1UdAiM4zwUOLxUAApadBKVnyvxWUQEDnQ0bBgvIOwYBaC0ETZ2tB6ISsvjW/tECWnzXBFtmnwATG00C6YarBmUqCQcVOzMEQ1txA8tG+QOR4ZUCvzlfAXQZXQdCV3EDer5VApEepwW6+GkF5r/lAnQclQWl9VT7Q9n7B4ZDfwGKpf8FlkODAgRspwLMhmkCk0cvB63GDQR9zUkAiLknB6WsLQdg4JkALoqdBojuYwUw6pMC8jphBVnT5QB5ZNMH+RAVBFoSVQDMpiMFowbRBWNMwQYN5vEBFOfzA7qfOwFz+d8BMkmBBp5aHQBSmOkC8T+BAUVb/vgXunUH/lL9AC6xowQum+EA8pr5AUllPwSyZGUA98Y3BDAzTQdJ2a0FbBrXB01EXwTWEi8Awyl5AMttCQBA5ocGMbThBht0bQay8T8Go9wvBMlM1P+Cpd0BJzNLA9eJiQYJSCkEqueg/IWWjQFbWoT9Scca9vyWewbImP0HOUXfBKEe5QLDg/D/S54fBQM+vwRx/I0Fg+VbB3luwQA6TmsB9T59AQG5UQEXt5sHOy3rBmv64QGANTUDh+yRB67S+QOcAt0BorhRBfVuWQQGyCUHAbMXA6uPRQJ7i/kBnVK8/fT+CwYDiFEHXAre+rsoWwUmEnMEG4zE/c0JhwUWgw8AAz6FACi2OQLAKLsEVyD/BcKn2PiT4g8BHaj/BAQ+AwYc5mECv4wg/RvvCQPJsFMGHUgfB6TdXQfZ5g8BmCxpBL5DXQD0JkEEhnh5A0y9KQFGB9UB1FwFA2JcvQJRDmsEdsChBe/gEwVFWyMFbZ65AXyYmwW1coUFYwOFAKPsUQfaEEEK4lX5BYLqNQGz1akHFnFXB55mEwf+ttcEJjkJBvA2bwI+xLMFpJYpA5t4vQL7bB8FQnOzBXm8ywdlmsECqkiRBOqSIQN26DsEXIhfAp80iQXdjQMFmHBk/NhFNQHiCNz8FpJJAPjR6wXHs2UFXj/4/vdgjQFosg8CoT0BBTOipQJaev0CUI1BALrX3QPcSxkBPumTBzyeUQQ0qXcFiNk1BcJ0pQe6xYcDuZ9TAnjgPwV8F50DcfjjBKmenQFOdfMHAzlRBS9inwf74LT+LCnpAzxa1QWph4MCKypFANtHcPu8WoME5GUFBaJGcwWEApsFogry/p+2YwS6Xrj98Y7vBHDRrwPGDkcEXFAdBpblkQM66XcHAE5TBlWtCQbouC0EJzDzBx/wQwQLIrb9zgiFBq8+LwMItpcFKIbJAkx4XQbKhRsCa0pHBzB+WPnAbZkCM76LBvbA3Qa1K2sC41JHApQGSwQppM0E4K+PAcIT1wNIgXMGo2e/A+SmBQfUhN8FeCKY/28o3QfGTs0EG2fi/XZmePr87pkDPcxLAYudzwYa+pMHl9rtABIbPwSGVRcHr5F8/qXwiQY+uecHpL19BmWtawT3UdMEvp+ZAmjgCwADEyb/AP37BFHwywcKhhUGcyT5AFx9twakVYsHrGlBA21NWQJrJ9MCFogXBaVfkvjZn7j9pn5jBNRmCQc3uE8Ao+M3AWYgyQaw+lMH2k0dB54Yzwfmn80BdIlHBbZJGwAVdSkDv7VdBywMgQaM8Kz8dd9XAjqaPQVdLOkFydq7A+kA2wc54A0DsU5bBbPAwQK8tuj7zxJfBjFUDQPKZIz8VzkVBaXBnQRv1VcFYiQRAxzySwN0I9j9FiZVByPBYQWu2IkGpAoFBMxUtwbVtSsH1WlNANChNQfPXhkEhW03BcoMWQG3lfL9zBQvB5u1Uwc4ugEGQzUdBMtgbPo+avEGCdBVASuLvwIz5zL8=",
          "dtype": "f4"
         }
        },
        {
         "marker": {
          "color": "pink",
          "size": 3
         },
         "mode": "markers",
         "name": "Unanswerable OOD - (unidentified)",
         "type": "scatter3d",
         "x": {
          "bdata": "cqrXv1GPjT/SLLNBrrOGQVo4iEDV50lBcRvKQXWQqUFWg2JB7Lh+QRp1cMHsNNJBEY/dQAVkuEH/YLvAkal/wOr7FkHFb1LA8qCbwAE2uEE765rAf5nVv8/CYkC3xY1BaX6hQewbPb3nRIjBvIgDQf6WnkGNuaRBfGplvq4mjEHs8MVBkMJxQZigaUEzgp5BXQeeQYCAkMCKzYJB6N/JQYs/38DrkhlBVo3gQYvJf0GYKxVBWISFQcLeu0CMaZ9Bou2CQPFTbcE7+YVBOEvVQay450A=",
          "dtype": "f4"
         },
         "y": {
          "bdata": "YNhvQYv+LEFxWPBAGsMdwbw3XUFHrTPBehrFQL9TGMF14prALrIjwRthRMAa99ZAmnWTv6uIzT+lXrVBC9r9wK6Q9kAzYuHA5r3EQSu+rT+kZELB/uNuQZnWFEEtjL+/do5hP2ADOkGzhY7AUT6RQQ27UT/NcJg/gp48QQooCsADEjY/UuOTwIPys8DdLwlBzez9wKAYOsEotxvBV+y6QM4/FUEl7P5AiZEoQUQlIsHhWvJAEs6vQHHL08COhgRBbh1XQR4GSMAd1KFAx/PPQDcCLUE=",
          "dtype": "f4"
         },
         "z": {
          "bdata": "oto2wbX+JcEh0O1A3uEXQZwUosGn+0pBuReFQbAaakFTdYtA/heCQdn0FkHPVXhBNLYlwaaKXEGTnmlBmVQzQQ8Fwr/61R9BqcapQakvi0GhAxJBfns2wZKgosGsfDFBlLuBQduMgUHdVhhB6dnEwf5IpEH42XtBewN9Qe7oQ0EHZ41B7mAjQGNdNkA66JG/k+2oQTS3+0C3kXlBYMiLQVBBXEC6yrm/qN0PQXf8fkHgMOW/HO+2QIeHK797KJm/CsqfwRaYFkH+Wr5AR3CCQTsKX8E=",
          "dtype": "f4"
         }
        },
        {
         "marker": {
          "color": "seagreen",
          "size": 3
         },
         "mode": "markers",
         "name": "Answerable ID - (unidentified)",
         "type": "scatter3d",
         "x": {
          "bdata": "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",
          "dtype": "f4"
         },
         "y": {
          "bdata": "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",
          "dtype": "f4"
         },
         "z": {
          "bdata": "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",
          "dtype": "f4"
         }
        }
       ],
       "layout": {
        "legend": {
         "font": {
          "size": 12
         }
        },
        "scene": {
         "aspectmode": "cube",
         "xaxis": {
          "title": {
           "text": "PC1"
          }
         },
         "yaxis": {
          "title": {
           "text": "PC2"
          }
         },
         "zaxis": {
          "title": {
           "text": "PC3"
          }
         }
        },
        "template": {
         "data": {
          "bar": [
           {
            "error_x": {
             "color": "#2a3f5f"
            },
            "error_y": {
             "color": "#2a3f5f"
            },
            "marker": {
             "line": {
              "color": "#E5ECF6",
              "width": 0.5
             },
             "pattern": {
              "fillmode": "overlay",
              "size": 10,
              "solidity": 0.2
             }
            },
            "type": "bar"
           }
          ],
          "barpolar": [
           {
            "marker": {
             "line": {
              "color": "#E5ECF6",
              "width": 0.5
             },
             "pattern": {
              "fillmode": "overlay",
              "size": 10,
              "solidity": 0.2
             }
            },
            "type": "barpolar"
           }
          ],
          "carpet": [
           {
            "aaxis": {
             "endlinecolor": "#2a3f5f",
             "gridcolor": "white",
             "linecolor": "white",
             "minorgridcolor": "white",
             "startlinecolor": "#2a3f5f"
            },
            "baxis": {
             "endlinecolor": "#2a3f5f",
             "gridcolor": "white",
             "linecolor": "white",
             "minorgridcolor": "white",
             "startlinecolor": "#2a3f5f"
            },
            "type": "carpet"
           }
          ],
          "choropleth": [
           {
            "colorbar": {
             "outlinewidth": 0,
             "ticks": ""
            },
            "type": "choropleth"
           }
          ],
          "contour": [
           {
            "colorbar": {
             "outlinewidth": 0,
             "ticks": ""
            },
            "colorscale": [
             [
              0,
              "#0d0887"
             ],
             [
              0.1111111111111111,
              "#46039f"
             ],
             [
              0.2222222222222222,
              "#7201a8"
             ],
             [
              0.3333333333333333,
              "#9c179e"
             ],
             [
              0.4444444444444444,
              "#bd3786"
             ],
             [
              0.5555555555555556,
              "#d8576b"
             ],
             [
              0.6666666666666666,
              "#ed7953"
             ],
             [
              0.7777777777777778,
              "#fb9f3a"
             ],
             [
              0.8888888888888888,
              "#fdca26"
             ],
             [
              1,
              "#f0f921"
             ]
            ],
            "type": "contour"
           }
          ],
          "contourcarpet": [
           {
            "colorbar": {
             "outlinewidth": 0,
             "ticks": ""
            },
            "type": "contourcarpet"
           }
          ],
          "heatmap": [
           {
            "colorbar": {
             "outlinewidth": 0,
             "ticks": ""
            },
            "colorscale": [
             [
              0,
              "#0d0887"
             ],
             [
              0.1111111111111111,
              "#46039f"
             ],
             [
              0.2222222222222222,
              "#7201a8"
             ],
             [
              0.3333333333333333,
              "#9c179e"
             ],
             [
              0.4444444444444444,
              "#bd3786"
             ],
             [
              0.5555555555555556,
              "#d8576b"
             ],
             [
              0.6666666666666666,
              "#ed7953"
             ],
             [
              0.7777777777777778,
              "#fb9f3a"
             ],
             [
              0.8888888888888888,
              "#fdca26"
             ],
             [
              1,
              "#f0f921"
             ]
            ],
            "type": "heatmap"
           }
          ],
          "histogram": [
           {
            "marker": {
             "pattern": {
              "fillmode": "overlay",
              "size": 10,
              "solidity": 0.2
             }
            },
            "type": "histogram"
           }
          ],
          "histogram2d": [
           {
            "colorbar": {
             "outlinewidth": 0,
             "ticks": ""
            },
            "colorscale": [
             [
              0,
              "#0d0887"
             ],
             [
              0.1111111111111111,
              "#46039f"
             ],
             [
              0.2222222222222222,
              "#7201a8"
             ],
             [
              0.3333333333333333,
              "#9c179e"
             ],
             [
              0.4444444444444444,
              "#bd3786"
             ],
             [
              0.5555555555555556,
              "#d8576b"
             ],
             [
              0.6666666666666666,
              "#ed7953"
             ],
             [
              0.7777777777777778,
              "#fb9f3a"
             ],
             [
              0.8888888888888888,
              "#fdca26"
             ],
             [
              1,
              "#f0f921"
             ]
            ],
            "type": "histogram2d"
           }
          ],
          "histogram2dcontour": [
           {
            "colorbar": {
             "outlinewidth": 0,
             "ticks": ""
            },
            "colorscale": [
             [
              0,
              "#0d0887"
             ],
             [
              0.1111111111111111,
              "#46039f"
             ],
             [
              0.2222222222222222,
              "#7201a8"
             ],
             [
              0.3333333333333333,
              "#9c179e"
             ],
             [
              0.4444444444444444,
              "#bd3786"
             ],
             [
              0.5555555555555556,
              "#d8576b"
             ],
             [
              0.6666666666666666,
              "#ed7953"
             ],
             [
              0.7777777777777778,
              "#fb9f3a"
             ],
             [
              0.8888888888888888,
              "#fdca26"
             ],
             [
              1,
              "#f0f921"
             ]
            ],
            "type": "histogram2dcontour"
           }
          ],
          "mesh3d": [
           {
            "colorbar": {
             "outlinewidth": 0,
             "ticks": ""
            },
            "type": "mesh3d"
           }
          ],
          "parcoords": [
           {
            "line": {
             "colorbar": {
              "outlinewidth": 0,
              "ticks": ""
             }
            },
            "type": "parcoords"
           }
          ],
          "pie": [
           {
            "automargin": true,
            "type": "pie"
           }
          ],
          "scatter": [
           {
            "fillpattern": {
             "fillmode": "overlay",
             "size": 10,
             "solidity": 0.2
            },
            "type": "scatter"
           }
          ],
          "scatter3d": [
           {
            "line": {
             "colorbar": {
              "outlinewidth": 0,
              "ticks": ""
             }
            },
            "marker": {
             "colorbar": {
              "outlinewidth": 0,
              "ticks": ""
             }
            },
            "type": "scatter3d"
           }
          ],
          "scattercarpet": [
           {
            "marker": {
             "colorbar": {
              "outlinewidth": 0,
              "ticks": ""
             }
            },
            "type": "scattercarpet"
           }
          ],
          "scattergeo": [
           {
            "marker": {
             "colorbar": {
              "outlinewidth": 0,
              "ticks": ""
             }
            },
            "type": "scattergeo"
           }
          ],
          "scattergl": [
           {
            "marker": {
             "colorbar": {
              "outlinewidth": 0,
              "ticks": ""
             }
            },
            "type": "scattergl"
           }
          ],
          "scattermap": [
           {
            "marker": {
             "colorbar": {
              "outlinewidth": 0,
              "ticks": ""
             }
            },
            "type": "scattermap"
           }
          ],
          "scattermapbox": [
           {
            "marker": {
             "colorbar": {
              "outlinewidth": 0,
              "ticks": ""
             }
            },
            "type": "scattermapbox"
           }
          ],
          "scatterpolar": [
           {
            "marker": {
             "colorbar": {
              "outlinewidth": 0,
              "ticks": ""
             }
            },
            "type": "scatterpolar"
           }
          ],
          "scatterpolargl": [
           {
            "marker": {
             "colorbar": {
              "outlinewidth": 0,
              "ticks": ""
             }
            },
            "type": "scatterpolargl"
           }
          ],
          "scatterternary": [
           {
            "marker": {
             "colorbar": {
              "outlinewidth": 0,
              "ticks": ""
             }
            },
            "type": "scatterternary"
           }
          ],
          "surface": [
           {
            "colorbar": {
             "outlinewidth": 0,
             "ticks": ""
            },
            "colorscale": [
             [
              0,
              "#0d0887"
             ],
             [
              0.1111111111111111,
              "#46039f"
             ],
             [
              0.2222222222222222,
              "#7201a8"
             ],
             [
              0.3333333333333333,
              "#9c179e"
             ],
             [
              0.4444444444444444,
              "#bd3786"
             ],
             [
              0.5555555555555556,
              "#d8576b"
             ],
             [
              0.6666666666666666,
              "#ed7953"
             ],
             [
              0.7777777777777778,
              "#fb9f3a"
             ],
             [
              0.8888888888888888,
              "#fdca26"
             ],
             [
              1,
              "#f0f921"
             ]
            ],
            "type": "surface"
           }
          ],
          "table": [
           {
            "cells": {
             "fill": {
              "color": "#EBF0F8"
             },
             "line": {
              "color": "white"
             }
            },
            "header": {
             "fill": {
              "color": "#C8D4E3"
             },
             "line": {
              "color": "white"
             }
            },
            "type": "table"
           }
          ]
         },
         "layout": {
          "annotationdefaults": {
           "arrowcolor": "#2a3f5f",
           "arrowhead": 0,
           "arrowwidth": 1
          },
          "autotypenumbers": "strict",
          "coloraxis": {
           "colorbar": {
            "outlinewidth": 0,
            "ticks": ""
           }
          },
          "colorscale": {
           "diverging": [
            [
             0,
             "#8e0152"
            ],
            [
             0.1,
             "#c51b7d"
            ],
            [
             0.2,
             "#de77ae"
            ],
            [
             0.3,
             "#f1b6da"
            ],
            [
             0.4,
             "#fde0ef"
            ],
            [
             0.5,
             "#f7f7f7"
            ],
            [
             0.6,
             "#e6f5d0"
            ],
            [
             0.7,
             "#b8e186"
            ],
            [
             0.8,
             "#7fbc41"
            ],
            [
             0.9,
             "#4d9221"
            ],
            [
             1,
             "#276419"
            ]
           ],
           "sequential": [
            [
             0,
             "#0d0887"
            ],
            [
             0.1111111111111111,
             "#46039f"
            ],
            [
             0.2222222222222222,
             "#7201a8"
            ],
            [
             0.3333333333333333,
             "#9c179e"
            ],
            [
             0.4444444444444444,
             "#bd3786"
            ],
            [
             0.5555555555555556,
             "#d8576b"
            ],
            [
             0.6666666666666666,
             "#ed7953"
            ],
            [
             0.7777777777777778,
             "#fb9f3a"
            ],
            [
             0.8888888888888888,
             "#fdca26"
            ],
            [
             1,
             "#f0f921"
            ]
           ],
           "sequentialminus": [
            [
             0,
             "#0d0887"
            ],
            [
             0.1111111111111111,
             "#46039f"
            ],
            [
             0.2222222222222222,
             "#7201a8"
            ],
            [
             0.3333333333333333,
             "#9c179e"
            ],
            [
             0.4444444444444444,
             "#bd3786"
            ],
            [
             0.5555555555555556,
             "#d8576b"
            ],
            [
             0.6666666666666666,
             "#ed7953"
            ],
            [
             0.7777777777777778,
             "#fb9f3a"
            ],
            [
             0.8888888888888888,
             "#fdca26"
            ],
            [
             1,
             "#f0f921"
            ]
           ]
          },
          "colorway": [
           "#636efa",
           "#EF553B",
           "#00cc96",
           "#ab63fa",
           "#FFA15A",
           "#19d3f3",
           "#FF6692",
           "#B6E880",
           "#FF97FF",
           "#FECB52"
          ],
          "font": {
           "color": "#2a3f5f"
          },
          "geo": {
           "bgcolor": "white",
           "lakecolor": "white",
           "landcolor": "#E5ECF6",
           "showlakes": true,
           "showland": true,
           "subunitcolor": "white"
          },
          "hoverlabel": {
           "align": "left"
          },
          "hovermode": "closest",
          "mapbox": {
           "style": "light"
          },
          "paper_bgcolor": "white",
          "plot_bgcolor": "#E5ECF6",
          "polar": {
           "angularaxis": {
            "gridcolor": "white",
            "linecolor": "white",
            "ticks": ""
           },
           "bgcolor": "#E5ECF6",
           "radialaxis": {
            "gridcolor": "white",
            "linecolor": "white",
            "ticks": ""
           }
          },
          "scene": {
           "xaxis": {
            "backgroundcolor": "#E5ECF6",
            "gridcolor": "white",
            "gridwidth": 2,
            "linecolor": "white",
            "showbackground": true,
            "ticks": "",
            "zerolinecolor": "white"
           },
           "yaxis": {
            "backgroundcolor": "#E5ECF6",
            "gridcolor": "white",
            "gridwidth": 2,
            "linecolor": "white",
            "showbackground": true,
            "ticks": "",
            "zerolinecolor": "white"
           },
           "zaxis": {
            "backgroundcolor": "#E5ECF6",
            "gridcolor": "white",
            "gridwidth": 2,
            "linecolor": "white",
            "showbackground": true,
            "ticks": "",
            "zerolinecolor": "white"
           }
          },
          "shapedefaults": {
           "line": {
            "color": "#2a3f5f"
           }
          },
          "ternary": {
           "aaxis": {
            "gridcolor": "white",
            "linecolor": "white",
            "ticks": ""
           },
           "baxis": {
            "gridcolor": "white",
            "linecolor": "white",
            "ticks": ""
           },
           "bgcolor": "#E5ECF6",
           "caxis": {
            "gridcolor": "white",
            "linecolor": "white",
            "ticks": ""
           }
          },
          "title": {
           "x": 0.05
          },
          "xaxis": {
           "automargin": true,
           "gridcolor": "white",
           "linecolor": "white",
           "ticks": "",
           "title": {
            "standoff": 15
           },
           "zerolinecolor": "white",
           "zerolinewidth": 2
          },
          "yaxis": {
           "automargin": true,
           "gridcolor": "white",
           "linecolor": "white",
           "ticks": "",
           "title": {
            "standoff": 15
           },
           "zerolinecolor": "white",
           "zerolinewidth": 2
          }
         }
        },
        "title": {
         "text": "3D PCA of test embeddings"
        }
       }
      }
     },
     "metadata": {},
     "output_type": "display_data"
    }
   ],
   "source": [
    "# Plot PCA, t-SNE and UMAP of classified samples  \n",
    "# NOTE: only available for 2D embedding descriptors (will produce error for 1D descriptors)\n",
    "# -----------------------------------\n",
    "from src.analysis.visualization import plot_dim_reduction_3d_embeddings\n",
    "\n",
    "pca_config = {'n_components': 3}\n",
    "tsne_config = {'n_components': 3, 'perplexity': 100}\n",
    "umap_config = {'n_components': 3, 'n_neighbors': 15, 'min_dist': 0.1}\n",
    "\n",
    "# --- PCA only ---\n",
    "_ = plot_dim_reduction_3d_embeddings(\n",
    "    id_test_embeddings=id_test_descriptors, \n",
    "    od_test_embeddings=od_test_descriptors, \n",
    "    labels_id=labels_id_thresh, \n",
    "    labels_ood=labels_ood_thresh, \n",
    "    pca_config=pca_config\n",
    ")"
   ]
  },
  {
   "cell_type": "code",
   "execution_count": 39,
   "metadata": {},
   "outputs": [
    {
     "data": {
      "text/plain": [
       "dict_keys(['perplexity_score', 'logit_entropy_score', 'window_logit_entropy_score'])"
      ]
     },
     "execution_count": 39,
     "metadata": {},
     "output_type": "execute_result"
    }
   ],
   "source": [
    "od_test_data['descriptors']['layer_1']['logit'].keys()"
   ]
  },
  {
   "cell_type": "markdown",
   "metadata": {},
   "source": [
    "### 4. Find best config"
   ]
  },
  {
   "cell_type": "code",
   "execution_count": 44,
   "metadata": {},
   "outputs": [
    {
     "name": "stderr",
     "output_type": "stream",
     "text": [
      "Layers: 100%|██████████| 16/16 [03:06<00:00, 11.68s/it]\n"
     ]
    }
   ],
   "source": [
    "# Evaluate all available (layer, group, aggregation) configurations using the chosen OOD method.\n",
    "# -----------------------------------\n",
    "from src.analysis.analyze_ood_results import grid_search_best_config\n",
    "\n",
    "df_res = grid_search_best_config(\n",
    "    id_fit_data=id_fit_data,\n",
    "    id_test_data=id_test_data,\n",
    "    od_test_data=od_test_data,\n",
    "    method=\"dknn\", # \"dknn\", \"cosine\", \"mahalanobis\", \"ocsvm\", \"isoforest\" --> DO NOT PUT \"raw_scores\" (managed internally)\n",
    "    method_params=config_dknn,\n",
    "    probing_test_size=0.1,\n",
    "    probing_random_state=SEED,\n",
    "    show_progress=True,\n",
    "    save_path=PLOT_DIR + f'ood_grid_{ACTIVATION_SOURCE}_seed{SEED}.xlsx',\n",
    "    threshold_strategy='target_tpr', # 'youden', 'target_tpr'\n",
    "    target_tpr= 0.95,\n",
    "    sort_by=['auroc','acc_probe'],\n",
    "    ascending=None,\n",
    "    debug=False\n",
    ")"
   ]
  },
  {
   "cell_type": "markdown",
   "metadata": {},
   "source": [
    "### Bootstrap analysis: determine optimal number of samples for best result"
   ]
  },
  {
   "cell_type": "code",
   "execution_count": 27,
   "metadata": {},
   "outputs": [
    {
     "name": "stdout",
     "output_type": "stream",
     "text": [
      "Starting bootstrap analysis...\n"
     ]
    },
    {
     "name": "stderr",
     "output_type": "stream",
     "text": [
      "Fit samples:   0%|          | 0/6 [00:00<?, ?it/s]"
     ]
    },
    {
     "name": "stderr",
     "output_type": "stream",
     "text": [
      "Fit samples: 100%|██████████| 6/6 [36:36<00:00, 366.05s/it]\n"
     ]
    }
   ],
   "source": [
    "# ===================================\n",
    "# Perform bootstrap analysis to determine the optimal \n",
    "# number of samples to obtain the best result\n",
    "# ===================================\n",
    "from src.analysis.bootstrap import bootstrap_analysis\n",
    "\n",
    "# Define sample size ranges to be tested\n",
    "# -----------------------------------\n",
    "n_fit_samples_range = [10_000, 20_000, 40_000, 60_000, 70_000, 80_000]\n",
    "n_test_samples_range = [1_000, 2_000, 4_000, 7_000, 8_000]\n",
    "\n",
    "# Compute bootstrap analysis\n",
    "# -----------------------------------\n",
    "bootstrap_results = bootstrap_analysis(\n",
    "    id_fit_embeddings=id_fit_descriptors,\n",
    "    id_test_embeddings=id_test_descriptors,\n",
    "    od_test_embeddings=od_test_descriptors,\n",
    "    n_fit_samples=n_fit_samples_range,\n",
    "    n_test_samples=n_test_samples_range,\n",
    "    compute_ood_score_fn=compute_dknn_scores, ### MUST BE ADAPTED DESCRIPTORS DIFFERENT THAN EMBEDDINGS\n",
    "    n_bootstrap=50, \n",
    "    **config\n",
    ")\n"
   ]
  },
  {
   "cell_type": "code",
   "execution_count": 29,
   "metadata": {},
   "outputs": [
    {
     "data": {
      "image/png": "[encoded data removed]",
      "text/plain": [
       "<Figure size 1500x1200 with 7 Axes>"
      ]
     },
     "metadata": {},
     "output_type": "display_data"
    },
    {
     "name": "stdout",
     "output_type": "stream",
     "text": [
      "\n",
      "==================================================\n",
      "FINAL RESULTS\n",
      "==================================================\n",
      "\n",
      "Bootstrap Analysis (averages over 6×5 configurations):\n",
      "AUROC: 0.822 ± 0.005\n",
      "AUPRC: 0.798 ± 0.006\n",
      "FPR95: 0.560 ± 0.014\n",
      "\n",
      "==================================================\n",
      "RECOMMENDATIONS\n",
      "==================================================\n",
      "\n",
      "Optimal configuration found:\n",
      "  - Fit samples: 80000\n",
      "  - Test samples: 2000\n",
      "  - AUROC: 0.882 ± 0.004\n",
      "\n",
      "Saturation analysis:\n",
      "  - With 10000 fit samples: AUROC = 0.822\n",
      "  - With 80000 fit samples: AUROC = 0.821\n"
     ]
    }
   ],
   "source": [
    "# Visualize bootstrap analysis\n",
    "# -----------------------------------\n",
    "from src.analysis.bootstrap import plot_bootstrap_results, display_bootstrap_statistics\n",
    "\n",
    "plot_bootstrap_results(bootstrap_results, save_path=f\"{PLOT_DIR}bootstrap_analysis{OUTPUT_TITLE}.png\")\n",
    "\n",
    "display_bootstrap_statistics(bootstrap_results, n_fit_samples_range, n_test_samples_range)"
   ]
  },
  {
   "cell_type": "markdown",
   "metadata": {},
   "source": [
    "# Brouillon"
   ]
  },
  {
   "cell_type": "markdown",
   "metadata": {},
   "source": [
    "### Find best config"
   ]
  },
  {
   "cell_type": "code",
   "execution_count": 7,
   "metadata": {},
   "outputs": [],
   "source": [
    "from __future__ import annotations\n",
    "\n",
    "from typing import Dict, Tuple, Optional, Any, List\n",
    "import numpy as np\n",
    "import torch\n",
    "from tqdm import tqdm\n",
    "\n",
    "from src.analysis.evaluation import compute_metrics, compute_confusion_matrix_and_metrics\n",
    "from src.ood_methods.logistic_regression import train_logistic_regression_on_descriptors\n",
    "\n",
    "# --- Imports classiques des méthodes OOD ---\n",
    "from src.ood_methods.dknn import compute_dknn_scores\n",
    "from src.ood_methods.cosine import compute_cosine_similarity\n",
    "from src.ood_methods.mahalanobis import compute_mahalanobis_distance\n",
    "from src.ood_methods.ocsvm import compute_ocsvm_score\n",
    "from src.ood_methods.isoforest import isolation_forest\n",
    "\n",
    "\n"
   ]
  },
  {
   "cell_type": "code",
   "execution_count": 8,
   "metadata": {},
   "outputs": [
    {
     "name": "stdout",
     "output_type": "stream",
     "text": [
      "Loaded 8008 samples from: ../results/raw/small_dataset_correct_split_allScores/id_fit_results_layer1:32:2_score_all_hidden_attn_logit_prompt_so0_eo0.pkl\n"
     ]
    }
   ],
   "source": [
    "# Load ID embeddings \n",
    "# -----------------------------------\n",
    "from src.data_reader.pickle_io import load_pickle_batches\n",
    "from src.utils.general import add_unanswerable_flag, filter_entries\n",
    "\n",
    "# Load extracted embeddings \n",
    "id_fit_data = load_pickle_batches(f\"{OUTPUT_DIR}id_fit_results{OUTPUT_TITLE}.pkl\")\n",
    "\n",
    "# Add unanswerable flag: check if the generated answer contains 'unanswerable' keyword\n",
    "# Expect many 'unanswerable' flags in `od_test_data` and few in `id_test_data`, if model works well\n",
    "id_fit_data = add_unanswerable_flag(id_fit_data)"
   ]
  },
  {
   "cell_type": "code",
   "execution_count": 9,
   "metadata": {},
   "outputs": [
    {
     "name": "stdout",
     "output_type": "stream",
     "text": [
      "Loaded 1000 samples from: ../results/raw/small_dataset_correct_split_allScores/od_test_results_layer1:32:2_score_all_hidden_attn_logit_prompt_so0_eo0.pkl\n",
      "Loaded 1000 samples from: ../results/raw/small_dataset_correct_split_allScores/id_test_results_layer1:32:2_score_all_hidden_attn_logit_prompt_so0_eo0.pkl\n"
     ]
    }
   ],
   "source": [
    "# Load test embeddings \n",
    "# -----------------------------------\n",
    "from src.data_reader.pickle_io import load_pickle_batches\n",
    "from src.utils.general import add_unanswerable_flag, filter_entries\n",
    "\n",
    "# Load extracted possible and impossible embeddings \n",
    "od_test_data = load_pickle_batches(f\"{OUTPUT_DIR}od_test_results{OUTPUT_TITLE}.pkl\")\n",
    "id_test_data = load_pickle_batches(f\"{OUTPUT_DIR}id_test_results{OUTPUT_TITLE}.pkl\")\n",
    "\n",
    "# Add unanswerable flag: check if the generated answer contains 'unanswerable' keyword\n",
    "# Expect many 'unanswerable' flags in `od_test_data` and few in `id_test_data`, if model works well\n",
    "od_test_data = add_unanswerable_flag(od_test_data)\n",
    "id_test_data = add_unanswerable_flag(id_test_data)"
   ]
  },
  {
   "cell_type": "code",
   "execution_count": 10,
   "metadata": {},
   "outputs": [],
   "source": [
    "# =============================================================================\n",
    "# Configuration discovery\n",
    "# =============================================================================\n",
    "def discover_config_space(data_dict: Dict[str, Any]) -> Dict[str, Any]:\n",
    "    \"\"\"\n",
    "    Discover the available configuration space directly from the key `descriptors` \n",
    "    from the data_dict dictionary\n",
    "\n",
    "    Parameters\n",
    "    ----------\n",
    "    data_dict : Dict[str, Any]\n",
    "        One split's dictionary containing the `descriptors` key with the structure: \n",
    "        {\n",
    "            \"descriptors\": {\n",
    "                \"layer_{i}\": {\n",
    "                    \"hidden\": {\n",
    "                        \"<hidden_agg>\": np.ndarray[(n_samples, feat_dim), float]\n",
    "                                     or np.ndarray[(n_samples,), float]\n",
    "                        ...\n",
    "                    },\n",
    "                    \"attention\": {\n",
    "                        \"<attn_agg>\": np.ndarray[(n_samples,), float]\n",
    "                        ...\n",
    "                    },\n",
    "                    \"logit\": {\n",
    "                        \"<logit_agg>\": np.ndarray[(n_samples,), float]\n",
    "                        ...\n",
    "                    }\n",
    "                },\n",
    "            }\n",
    "        }\n",
    "\n",
    "    Returns\n",
    "    -------\n",
    "    space : Dict[str, Any]\n",
    "        {\n",
    "          \"layers\": List[int],\n",
    "          \"hidden_aggs_by_layer\": Dict[int, List[str]],\n",
    "          \"attn_aggs_by_layer\": Dict[int, List[str]],\n",
    "          \"logits_aggs_by_layer\": Dict[int, List[str]]\n",
    "        }\n",
    "\n",
    "    \"\"\"\n",
    "    assert \"descriptors\" in data_dict, \"data_dict must contain key 'descriptors'.\"\n",
    "    S = data_dict[\"descriptors\"]\n",
    "\n",
    "    # Extract layer indices from keys like \"layer_12\"\n",
    "    layers: List[int] = []\n",
    "    for k in S.keys():\n",
    "        if k.startswith(\"layer_\"):\n",
    "            try:\n",
    "                layers.append(int(k.split(\"_\", 1)[1]))\n",
    "            except Exception:\n",
    "                pass\n",
    "    layers = sorted(set(layers))\n",
    "\n",
    "    hidden_aggs_by_layer: Dict[int, List[str]] = {}\n",
    "    attn_aggs_by_layer: Dict[int, List[str]] = {}\n",
    "    logits_aggs_by_layer: Dict[int, List[str]] = {}\n",
    "\n",
    "    for li in layers:\n",
    "        layer_node = S.get(f\"layer_{li}\", {})\n",
    "\n",
    "        # Hidden aggregations: 2D descriptors (n_samples, feat_dim)\n",
    "        hidden_aggs_by_layer[li] = (\n",
    "            sorted(list(layer_node.get(\"hidden\", {}).keys()))\n",
    "            if isinstance(layer_node.get(\"hidden\"), dict) else []\n",
    "        )\n",
    "\n",
    "        # Attention \"scores\": 1D descriptors (n_samples,)\n",
    "        attn_aggs_by_layer[li] = (\n",
    "            sorted(list(layer_node.get(\"attention\", {}).keys()))\n",
    "            if isinstance(layer_node.get(\"attention\"), dict) else []\n",
    "        )\n",
    "\n",
    "        # Logits \"scores\": 1D descriptors (n_samples,)\n",
    "        logits_aggs_by_layer[li] = (\n",
    "            sorted(list(layer_node.get(\"logit\", {}).keys()))\n",
    "            if isinstance(layer_node.get(\"logit\"), dict) else []\n",
    "        )\n",
    "\n",
    "    return {\n",
    "        \"layers\": layers,\n",
    "        \"hidden_aggs_by_layer\": hidden_aggs_by_layer,\n",
    "        \"attn_aggs_by_layer\": attn_aggs_by_layer,\n",
    "        \"logits_aggs_by_layer\": logits_aggs_by_layer,\n",
    "    }\n"
   ]
  },
  {
   "cell_type": "code",
   "execution_count": 27,
   "metadata": {},
   "outputs": [],
   "source": [
    "space = discover_config_space(id_fit_data)"
   ]
  },
  {
   "cell_type": "code",
   "execution_count": 11,
   "metadata": {},
   "outputs": [],
   "source": [
    "# =============================================================================\n",
    "# Descriptor extraction\n",
    "# =============================================================================\n",
    "def retrieve_one_config_from_dict(\n",
    "    data_dict: Dict[str, Any],\n",
    "    layer: int,\n",
    "    group: str,\n",
    "    aggregation: str\n",
    ") -> np.ndarray:\n",
    "    \"\"\"\n",
    "    Extract descriptors (e.g., embeddings or other features\n",
    "    derived from hidden representations) for a given configuration:\n",
    "    layer, group and aggregation\n",
    "\n",
    "    Parameters\n",
    "    ----------  \n",
    "    data_dict : Dict[str, Any]\n",
    "        One split's dictionary containing the `descriptors` key with the structure: \n",
    "        {\n",
    "            \"descriptors\": {\n",
    "                \"layer_{i}\": {\n",
    "                    \"hidden\": {\n",
    "                        \"<hidden_agg>\": np.ndarray[(n_samples, feat_dim), float]\n",
    "                                     or np.ndarray[(n_samples,), float]\n",
    "                        ...\n",
    "                    },\n",
    "                    \"attention\": {\n",
    "                        \"<attn_agg>\": np.ndarray[(n_samples,), float]\n",
    "                        ...\n",
    "                    },\n",
    "                    \"logit\": {\n",
    "                        \"<logit_agg>\": np.ndarray[(n_samples,), float]\n",
    "                        ...\n",
    "                    }\n",
    "                },\n",
    "            }\n",
    "        }\n",
    "    layer : int\n",
    "        Layer index to read from (applies to `hidden`, `attention`, `logit`).\n",
    "    group : str\n",
    "        One of {\"hidden\", \"attention\", \"logit\"}.\n",
    "    aggregation : str\n",
    "        Name of the aggregation mode within the chosen group.\n",
    "        One of  {\"perplexity_score\", \"logit_entropy_score\", \"window_logit_entropy_score\"} from \"logit\" group, \n",
    "                {\"avg_emb\", \"last_emb\", \"max_emb\", \"first_gen_emb\", \"feat_var_emb\", \"hidden_score\"} from \"hidden\" group \n",
    "                {\"attn_score\"} from \"attention\" group\n",
    "\n",
    "    Returns\n",
    "    -------\n",
    "    arr : np.ndarray[float]\n",
    "        - If aggregation mode ends with '*_emb': shape (n_samples, feat_dim), float\n",
    "        - If aggregation mode ends with '*_score': shape (n_samples), float\n",
    "\n",
    "    Raises\n",
    "    ------\n",
    "    KeyError\n",
    "        If the requested path does not exist in the dictionary.\n",
    "    \"\"\"\n",
    "    \n",
    "    S = data_dict[\"scores\"]\n",
    "    layer_node = S.get(f\"layer_{layer}\", {})\n",
    "\n",
    "    if group == \"hidden\":\n",
    "        if \"hidden\" in layer_node and aggregation in layer_node[\"hidden\"]:\n",
    "            return np.asarray(layer_node[\"hidden\"][aggregation])\n",
    "        raise KeyError(f\"Missing hidden '{aggregation}' for layer {layer}\")\n",
    "\n",
    "    if group == \"attention\":\n",
    "        if \"attention\" in layer_node and aggregation in layer_node[\"attention\"]:\n",
    "            return np.asarray(layer_node[\"attention\"][aggregation])\n",
    "        raise KeyError(f\"Missing attention '{aggregation}' for layer {layer}\")\n",
    "    \n",
    "    if group == \"logit\":\n",
    "        if \"logit\" in layer_node and aggregation in layer_node[\"logit\"]:\n",
    "            return np.asarray(layer_node[\"logit\"][aggregation])\n",
    "        raise KeyError(f\"Missing logit '{aggregation}' for layer {layer}\")\n",
    "\n",
    "    raise ValueError(f\"Unknown group: {group}. Expected 'hidden' | 'attention' | 'logit'.\")"
   ]
  },
  {
   "cell_type": "code",
   "execution_count": 29,
   "metadata": {},
   "outputs": [],
   "source": [
    "LAYER = -1\n",
    "GROUP = 'logits'\n",
    "AGGREGATION = 'perplexity'\n",
    "\n",
    "id_fit_descriptors = retrieve_one_config_from_dict(id_fit_data, layer=LAYER, group=GROUP, aggregation=AGGREGATION)\n",
    "id_test_descriptors = retrieve_one_config_from_dict(id_test_data, layer=LAYER, group=GROUP, aggregation=AGGREGATION)\n",
    "od_test_descriptors = retrieve_one_config_from_dict(od_test_data, layer=LAYER, group=GROUP, aggregation=AGGREGATION)"
   ]
  },
  {
   "cell_type": "code",
   "execution_count": 17,
   "metadata": {},
   "outputs": [],
   "source": [
    "config_dknn = {'k': 5, 'batch_size': BATCH_SIZE} # DKNN config\n",
    "config_cosine = {'center_type':'all', 'seed': SEED, 'k': 5, 'batch_size': BATCH_SIZE} # Cosine Similarity config\n",
    "config_maha = {'center_type':'mean', 'seed': SEED, 'k': 5} # Mahalanobis config\n",
    "config_ocsvm = {'kernel':'rbf', 'nu': 0.1, 'gamma': 'scale'} # OCSVM config\n",
    "config_isoforest = {'n_estimators':1000, 'contamination': 'auto', 'seed': SEED} # Isolation forest config\n"
   ]
  },
  {
   "cell_type": "code",
   "execution_count": 18,
   "metadata": {},
   "outputs": [],
   "source": []
  },
  {
   "cell_type": "code",
   "execution_count": 30,
   "metadata": {},
   "outputs": [],
   "source": [
    "scores_id, scores_ood = compute_ood_scores(\n",
    "    method='raw_scores',\n",
    "    id_fit_descriptors=id_fit_descriptors,\n",
    "    id_test_descriptors=id_test_descriptors,\n",
    "    od_test_descriptors=od_test_descriptors,\n",
    "    **config_ocsvm\n",
    ")"
   ]
  },
  {
   "cell_type": "code",
   "execution_count": 20,
   "metadata": {},
   "outputs": [],
   "source": [
    "def _describe_array(\n",
    "    name: str,\n",
    "    X,\n",
    "    eps: float = 1e-12,\n",
    "    near_eps: float = 1e-8,\n",
    "    uniq_round_decimals: int = 6,\n",
    "    uniq_sample_rows: int = 2048,\n",
    ") -> None:\n",
    "    \"\"\"\n",
    "    Print diagnostics on an array/tensor:\n",
    "      - shape, fraction of non-finite, 'zero-like' fraction (rows with ~zero norm for 2D or values ~0 for 1D)\n",
    "      - mean/std/min/max over finite values\n",
    "      - near-identical check:\n",
    "          * 2D: fraction of features with near-zero std across samples,\n",
    "                approximate unique-rows fraction after rounding (on a subset)\n",
    "          * 1D: approximate unique-values fraction after rounding\n",
    "    \"\"\"\n",
    "    Xnp = np.asarray(X)\n",
    "    finite_mask = np.isfinite(Xnp)\n",
    "    # upcast for stable stats\n",
    "    Xf = np.where(finite_mask, Xnp, np.nan).astype(np.float64, copy=False)\n",
    "\n",
    "    # zero-like fraction\n",
    "    if Xnp.ndim == 1:\n",
    "        frac_zero_like = float(np.nanmean(np.abs(Xf) <= eps))\n",
    "    elif Xnp.ndim == 2:\n",
    "        Xsafe = np.where(finite_mask, Xnp, 0.0).astype(np.float64, copy=False)\n",
    "        norms = np.linalg.norm(Xsafe, axis=1)\n",
    "        frac_zero_like = float(np.mean(norms <= eps))\n",
    "    else:\n",
    "        frac_zero_like = float(np.nanmean(np.abs(Xf) <= eps))\n",
    "\n",
    "    # global stats on finite values\n",
    "    nonfinite_frac = float(1.0 - np.mean(finite_mask))\n",
    "    mean_f = float(np.nanmean(Xf))\n",
    "    std_f  = float(np.nanstd(Xf))\n",
    "    min_f  = float(np.nanmin(Xf))\n",
    "    max_f  = float(np.nanmax(Xf))\n",
    "\n",
    "    # near-identical diagnostics\n",
    "    near_flag = False\n",
    "    near_msg = \"\"\n",
    "    if Xnp.ndim == 2 and Xnp.shape[0] > 1:\n",
    "        # variability across samples (per-feature std)\n",
    "        feat_std = np.nanstd(Xf, axis=0)\n",
    "        mean_feat_std = float(np.nanmean(feat_std))\n",
    "        frac_low_var_feats = float(np.mean(feat_std <= near_eps))\n",
    "\n",
    "        # approximate unique-rows fraction (on finite subset, rounded)\n",
    "        N = min(Xnp.shape[0], uniq_sample_rows)\n",
    "        sub = Xf[:N]\n",
    "        row_finite = np.all(np.isfinite(sub), axis=1)\n",
    "        sub = sub[row_finite]\n",
    "        if sub.size > 0:\n",
    "            sub_rounded = np.round(sub, uniq_round_decimals)\n",
    "            unique_rows = np.unique(sub_rounded, axis=0).shape[0]\n",
    "            unique_frac = float(unique_rows / max(sub_rounded.shape[0], 1))\n",
    "        else:\n",
    "            unique_frac = 0.0\n",
    "\n",
    "        near_flag = (mean_feat_std <= near_eps) or (frac_low_var_feats >= 0.99) or (unique_frac <= 0.01)\n",
    "        near_msg = (\n",
    "            f\" | mean_feat_std={mean_feat_std:.3e} \"\n",
    "            f\"low_var_feats={frac_low_var_feats:.2%} \"\n",
    "            f\"unique_rows_frac≈{unique_frac:.4f} \"\n",
    "            f\"near_identical_rows≈{near_flag}\"\n",
    "        )\n",
    "\n",
    "    elif Xnp.ndim == 1 and Xnp.size > 1:\n",
    "        N = min(Xnp.size, uniq_sample_rows)\n",
    "        sub = Xf[:N]\n",
    "        sub = sub[np.isfinite(sub)]\n",
    "        if sub.size > 0:\n",
    "            sub_rounded = np.round(sub, uniq_round_decimals)\n",
    "            unique_vals = np.unique(sub_rounded).size\n",
    "            unique_frac = float(unique_vals / max(sub_rounded.size, 1))\n",
    "        else:\n",
    "            unique_frac = 0.0\n",
    "\n",
    "        near_flag = (std_f <= near_eps) or (unique_frac <= 0.01)\n",
    "        near_msg = f\" | unique_vals_frac≈{unique_frac:.4f} near_identical_vals≈{near_flag}\"\n",
    "\n",
    "    print(\n",
    "        f\"{name} shape={Xnp.shape} \"\n",
    "        f\"nonfinite={nonfinite_frac:.4f} zero_like={frac_zero_like:.4f} \"\n",
    "        f\"mean={mean_f:.6f} std={std_f:.6f} min={min_f:.6f} max={max_f:.6f}\"\n",
    "        f\"{near_msg}\"\n",
    "    )\n"
   ]
  },
  {
   "cell_type": "code",
   "execution_count": 13,
   "metadata": {},
   "outputs": [
    {
     "name": "stdout",
     "output_type": "stream",
     "text": [
      "==============================\n"
     ]
    }
   ],
   "source": [
    "print(\"=\"*30)"
   ]
  },
  {
   "cell_type": "code",
   "execution_count": 12,
   "metadata": {},
   "outputs": [],
   "source": [
    "from pathlib import Path\n",
    "from typing import Literal\n",
    "from src.analysis.analyze_ood_results import discover_config_space, retrieve_one_config_from_dict\n",
    "from src.ood_methods.ood_main import compute_ood_scores\n",
    " \n",
    "# =============================================================================\n",
    "# Full grid over available configs\n",
    "# =============================================================================\n",
    "def grid_search_best_config(\n",
    "    id_fit_data: Dict[str, Any],\n",
    "    id_test_data: Dict[str, Any],\n",
    "    od_test_data: Dict[str, Any],\n",
    "    method: str = \"dknn\",\n",
    "    method_params: Optional[Dict[str, Any]] = None,\n",
    "    probing_test_size: float = 0.2,\n",
    "    probing_random_state: int = 42,\n",
    "    show_progress: bool = True,\n",
    "    save_path: Optional[str] = None,  \n",
    "    threshold_strategy: Literal[\"youden\", \"target_tpr\"] = \"youden\",\n",
    "    target_tpr: float = 0.95,\n",
    "    sort_by: Optional[List[str]] = None,\n",
    "    ascending: Optional[List[bool]] = None,\n",
    "    debug: bool = False,\n",
    ") -> pd.DataFrame:\n",
    "    \"\"\"\n",
    "    Enumerate and evaluate all available (layer, group, aggregation) configurations\n",
    "    discovered from the `descriptors` keys in dicts id_fit_data/id_test_data/od_test_data,\n",
    "    using the chosen OOD method.\n",
    "\n",
    "    For each configuration, this function:\n",
    "      1) Extracts descriptors for ID fit / ID test / OOD test.\n",
    "      2) Computes OOD scores (ID vs OOD) using `method`.\n",
    "      3) Computes ROC metrics (AUROC, FPR95, AUPRC) and selects a decision threshold\n",
    "         using `threshold_strategy`:\n",
    "           - 'youden'     : maximizes Youden's J = TPR - FPR\n",
    "           - 'target_tpr' : picks the threshold whose TPR is closest to `target_tpr`\n",
    "      4) Thresholds predictions (ID=0 / OOD=1) at the selected threshold and reports\n",
    "         accuracy/F1/precision/recall.\n",
    "      5) Runs **linear probing** (logistic regression) on the descriptors themselves\n",
    "         and reports accuracy/F1/precision/recall for the probe.\n",
    "\n",
    "    Parameters\n",
    "    ----------\n",
    "    id_fit_data : Dict[str, Any]\n",
    "        ID fit split with the `descriptors` key structure.           \n",
    "    id_test_data : Dict[str, Any]\n",
    "        ID test split with the`descriptors` key structure.     \n",
    "    od_test_data : Dict[str, Any]\n",
    "        OOD test split with the `descriptors` key structure.  \n",
    "    method : str, optional (default=\"dknn\")\n",
    "        OOD method. One of:\n",
    "          \"dknn\", \"cosine\", \"mahalanobis\", \"ocsvm\", \"isoforest\".\n",
    "        - Method is forced internally to \"raw_scores\" when descriptors are already\n",
    "          scalar scores (1D). In that case, we take the raw scores as OOD scores.\n",
    "    method_params : Optional[Dict[str, Any]], optional\n",
    "        Extra keyword arguments for the chosen method (e.g., k=1 for DKNN).\n",
    "        Optional metadata (e.g., \"prompt\" | \"generation\" | \"PromptGeneration\").\n",
    "        Stored in the resulting DataFrame for traceability.\n",
    "    probing_test_size : float, optional (default=0.2)\n",
    "        Test split proportion used inside the logistic-regression probing.\n",
    "    probing_random_state : int, optional (default=42)\n",
    "        Random seed for the logistic-regression probing split.\n",
    "    show_progress : bool, optional (default=True)\n",
    "        If True, display tqdm progress bars.\n",
    "    threshold_strategy : {\"youden\",\"target_tpr\"}, default \"youden\"\n",
    "        Strategy to select the operating threshold from ROC.\n",
    "    target_tpr : float, default 0.95\n",
    "        Target TPR used when `threshold_strategy=\"target_tpr\"`.\n",
    "    sort_by : Optional[List[str]], default None\n",
    "        Column(s) to sort the final DataFrame by. If None, defaults to\n",
    "        [\"auroc\", \"auprc\"] in descending order when possible.\n",
    "    ascending : Optional[List[bool]], default None\n",
    "        Sort order per `sort_by`. Can be a single bool or a list with the same\n",
    "        length as `sort_by`. If None and `sort_by` is provided, defaults to all False\n",
    "        (i.e., descending for each column).\n",
    "    debug : bool, default False\n",
    "        If True, print small descriptive stats for each descriptor array.\n",
    "\n",
    "    \n",
    "    Note\n",
    "    ----\n",
    "    id_fit_data, id_test_data and od_test_data have the following structure: \n",
    "        {\n",
    "            \"descriptors\": {\n",
    "                \"layer_{i}\": {\n",
    "                    \"hidden\": {\n",
    "                        \"<hidden_agg>\": np.ndarray[(n_samples, feat_dim), float]\n",
    "                                     or np.ndarray[(n_samples,), float]\n",
    "                        ...\n",
    "                    },\n",
    "                    \"attention\": {\n",
    "                        \"<attn_agg>\": np.ndarray[(n_samples,), float]\n",
    "                        ...\n",
    "                    },\n",
    "                    \"logit\": {\n",
    "                        \"<logit_agg>\": np.ndarray[(n_samples,), float]\n",
    "                        ...\n",
    "                    }\n",
    "                },\n",
    "            }\n",
    "        }\n",
    "\n",
    "    Returns\n",
    "    -------\n",
    "    df_results : pd.DataFrame\n",
    "        One row per (layer, group, aggregation) configuration with columns:\n",
    "        - \"layer\": int\n",
    "        - \"group\": str  in {\"hidden\", \"attention\", \"logit\"}\n",
    "        - \"aggregation\": str  (e.g., \"avg_emb\", \"attn_score\", \"logit_entropy_score\", ...)\n",
    "        - \"method\": str\n",
    "        - \"method_params\": Dict[str, Any]\n",
    "\n",
    "        OOD-score thresholding:\n",
    "        - \"auroc\": float\n",
    "        - \"fpr95\": float\n",
    "        - \"auprc\": float\n",
    "        - \"threshold\": float  (selected per strategy)\n",
    "        - \"acc_thresh\": float\n",
    "        - \"f1_thresh\": float\n",
    "        - \"prec_thresh\": float\n",
    "        - \"recall_thresh\": float\n",
    "\n",
    "        Linear probing (logistic regression on descriptors):\n",
    "        - \"acc_probe\": float\n",
    "        - \"f1_probe\": float\n",
    "        - \"prec_probe\": float\n",
    "        - \"recall_probe\": float\n",
    "\n",
    "    Notes\n",
    "    -----\n",
    "    - Descriptor shapes:\n",
    "        hidden   -> (n_samples, feat_dim)  (2D)\n",
    "        attention/logits -> (n_samples,)   (1D), reshaped to (n_samples, 1) for probing.\n",
    "    - OOD score convention: higher score means \"more OOD\".\n",
    "    - For the first_generated + prompt configuration, it's expected that all embeddings end up \n",
    "      (nearly) identical. Because the first generated token in the prompt is always the BOS/special \n",
    "      token (e.g., <s>). Since every sample shares the same first token, its representation is the \n",
    "      same across the dataset. As a result, distance-based  OOD scores (DKNN, cosine, etc.) collapse \n",
    "      to zero for everyone, and the method has no discriminative power in this setting.\n",
    "    \"\"\"\n",
    "    method_params = method_params or {}\n",
    "\n",
    "    # Retrieve all space configurations\n",
    "    space = discover_config_space(id_fit_data)\n",
    "\n",
    "    # Convenience for optional progress bars\n",
    "    LayerIter = tqdm(space[\"layers\"], desc=\"Layers\") if show_progress else space[\"layers\"]\n",
    "\n",
    "    rows: List[Dict[str, Any]] = []\n",
    "\n",
    "    # Helper: evaluate one configuration and append a row\n",
    "    def _evaluate_and_append_row(\n",
    "        layer: int,\n",
    "        group: str,\n",
    "        agg: str,\n",
    "        method: str,\n",
    "    ) -> None:\n",
    "        \n",
    "        # Descriptor extraction for a given configuration\n",
    "        fit = retrieve_one_config_from_dict(id_fit_data, layer, group, agg)\n",
    "        idt = retrieve_one_config_from_dict(id_test_data, layer, group, agg)\n",
    "        odt = retrieve_one_config_from_dict(od_test_data, layer, group, agg)\n",
    "\n",
    "        # Check if descriptors are 1D scores. In that case, use \n",
    "        # them directly as OOD scores and do not apply OOD methods\n",
    "        if fit.ndim==1:\n",
    "            method='raw_scores'\n",
    "\n",
    "        # OOD scores (ID vs OOD)\n",
    "        scores_id, scores_ood = compute_ood_scores(\n",
    "            method=method,\n",
    "            id_fit_descriptors=fit,  # shape: (n_fit,d) or (n_fit,)\n",
    "            id_test_descriptors=idt, # shape: (n_idt,d) or (n_idt,)\n",
    "            od_test_descriptors=odt, # shape: (n_odt,d) or (n_odt,)\n",
    "            **method_params\n",
    "        )\n",
    "\n",
    "        if debug:\n",
    "            print(\"=\"*30)\n",
    "            for name, X in [(\"fit\", fit), (\"id\", idt), (\"ood\", odt)]:\n",
    "                _describe_array(name, X)\n",
    "\n",
    "\n",
    "        # ROC metrics + threshold\n",
    "        auroc, fpr95, auc_pr, fpr, tpr, thresholds, selected_threshold = compute_metrics(\n",
    "            scores_id=scores_id, scores_ood=scores_ood, plot=False, save_path=None,\n",
    "            threshold_strategy=threshold_strategy, target_tpr=target_tpr,\n",
    "        )\n",
    "\n",
    "        # Generate labels for each test point with Thresholding \n",
    "        # Predicted class is assigned as follows:\n",
    "        # - score >  threshold -> predicted OOD (label 1)\n",
    "        # - score <= threshold -> predicted ID (label 0)\n",
    "        y_true = np.concatenate(   # Ground-truth labels: 0=ID, 1=OOD\n",
    "            [np.zeros(len(scores_id), dtype=int), np.ones(len(scores_ood), dtype=int)]\n",
    "        )\n",
    "        y_pred = np.concatenate(   # Predicted labels based on threshold: 0=ID, 1=OOD\n",
    "            [(scores_id > selected_threshold).astype(int), (scores_ood > selected_threshold).astype(int)]\n",
    "        ) \n",
    "\n",
    "        _, acc, f1, prec, rec = compute_confusion_matrix_and_metrics(\n",
    "            y_true=y_true, y_pred=y_pred, plot=False, normalize=True\n",
    "        )\n",
    "\n",
    "        if debug:\n",
    "            print(\"unique y_true:\", np.unique(y_true, return_counts=True))\n",
    "            print(\"unique y_pred:\", np.unique(y_pred, return_counts=True))\n",
    "            print(\"used threshold:\", selected_threshold)\n",
    "        \n",
    "\n",
    "        # Linear probing on descriptors; reshape 1D to 2D for probing\n",
    "        def ensure_2d(X: np.ndarray) -> torch.Tensor:\n",
    "            '''if X.shape==(n,) -> becomes (n,1);  if X.shape==(n,d) -> unchanged\n",
    "            if X.shape==(n,1) -> unchanged\n",
    "            '''\n",
    "            X = np.asarray(X)\n",
    "            if X.ndim == 1:\n",
    "                X = X.reshape(-1, 1)\n",
    "            return torch.from_numpy(X) \n",
    "\n",
    "        clf, y_test_probe, y_pred_probe, idx_test = train_logistic_regression_on_descriptors(\n",
    "            id_test_descriptors=ensure_2d(idt), \n",
    "            od_test_descriptors=ensure_2d(odt),\n",
    "            random_state=probing_random_state,\n",
    "            test_size=probing_test_size\n",
    "        )\n",
    "        _, acc_p, f1_p, prec_p, rec_p = compute_confusion_matrix_and_metrics(\n",
    "            y_true=y_test_probe, y_pred=y_pred_probe, plot=False, normalize=True\n",
    "        )\n",
    "\n",
    "\n",
    "        rows.append({\n",
    "            \"layer\": layer,\n",
    "            \"group\": group,\n",
    "            \"aggregation\": agg,\n",
    "            \"method\": method,\n",
    "            \"method_params\": dict(method_params),\n",
    "\n",
    "            \"auroc\": float(auroc),\n",
    "            \"fpr95\": float(fpr95),\n",
    "            \"auprc\": float(auc_pr),\n",
    "            \"threshold\": float(selected_threshold),\n",
    "\n",
    "            \"acc_thresh\": float(acc),\n",
    "            \"f1_thresh\": float(f1),\n",
    "            \"prec_thresh\": float(prec),\n",
    "            \"recall_thresh\": float(rec),\n",
    "\n",
    "            \"acc_probe\": float(acc_p),\n",
    "            \"f1_probe\": float(f1_p),\n",
    "            \"prec_probe\": float(prec_p),\n",
    "            \"recall_probe\": float(rec_p),\n",
    "        })\n",
    "\n",
    "    # -------------------------\n",
    "    # Hidden (per layer, 2D)\n",
    "    # -------------------------\n",
    "    for layer in LayerIter:\n",
    "        \n",
    "        hidden_aggs = space[\"hidden_aggs_by_layer\"].get(layer, [])\n",
    "        if show_progress:\n",
    "            hidden_aggs = tqdm(hidden_aggs, desc=f\"Hidden aggs @ layer {layer}\", leave=False)\n",
    "        for agg in hidden_aggs:\n",
    "            #print(f\"\\naggregation {agg}\")\n",
    "            _evaluate_and_append_row(layer, \"hidden\", agg, method)\n",
    "\n",
    "        # -------------------------\n",
    "        # Attention (per layer, 1D)\n",
    "        # -------------------------\n",
    "        attn_aggs = space[\"attn_aggs_by_layer\"].get(layer, [])\n",
    "        if show_progress:\n",
    "            attn_aggs = tqdm(attn_aggs, desc=f\"Attention aggs @ layer {layer}\", leave=False)\n",
    "        for agg in attn_aggs:\n",
    "            #print(f\"\\naggregation {agg}\")\n",
    "            _evaluate_and_append_row(layer, \"attention\", agg, method)\n",
    "\n",
    "        # -------------------------\n",
    "        # Logits (per layer, 1D)\n",
    "        # -------------------------\n",
    "        logits_aggs = space[\"logits_aggs_by_layer\"].get(layer, [])\n",
    "        if show_progress:\n",
    "            logits_aggs = tqdm(logits_aggs, desc=f\"Logits aggs @ layer {layer}\", leave=False)\n",
    "        for agg in logits_aggs:\n",
    "            #print(f\"\\naggregation {agg}\")\n",
    "            _evaluate_and_append_row(layer, \"logits\", agg, method)\n",
    "\n",
    "\n",
    "    # -------------------------\n",
    "    # Build & sort DataFrame\n",
    "    # -------------------------\n",
    "    df = pd.DataFrame(rows)\n",
    "    if not df.empty:  # Sort if there is at least one row.\n",
    "        if sort_by is None:\n",
    "            sort_cols = [\"auroc\", \"auprc\"] # Default sort keys\n",
    "            sort_ord = [False, False]  # Sort in descending order\n",
    "        else:\n",
    "            # Normalize `sort_by` into a list (accept a single string or a list/tuple of strings).\n",
    "            sort_cols = list(sort_by) if isinstance(sort_by, (list, tuple)) else [sort_by]  \n",
    "            if ascending is None:\n",
    "                # If no `ascending` is provided, default to descending for each sort column.\n",
    "                sort_ord = [False] * len(sort_cols)\n",
    "            elif isinstance(ascending, bool):\n",
    "                # If a single bool is provided, broadcast it to all sort columns.\n",
    "                sort_ord = [ascending] * len(sort_cols)\n",
    "            else:\n",
    "                # If a list/tuple is provided, it must match the length of `sort_cols`.\n",
    "                if len(ascending) != len(sort_cols):\n",
    "                    raise ValueError(\"`ascending` must be a bool or a list with the same length as `sort_by`.\")\n",
    "                sort_ord = list(ascending) # Make a shallow copy as a list.\n",
    "\n",
    "            # Keep only sort columns that actually exist in the DataFrame (avoids KeyError).\n",
    "            present = [c for c in sort_cols if c in df.columns]\n",
    "            if len(present) < len(sort_cols):\n",
    "                # If we dropped some columns, drop their corresponding sort orders to keep alignment.\n",
    "                sort_ord = [ord for c, ord in zip(sort_cols, sort_ord) if c in present]\n",
    "                sort_cols = present\n",
    "\n",
    "        if sort_cols: # If there is at least one valid column to sort on, sort the DataFrame \n",
    "            df = df.sort_values(sort_cols, ascending=sort_ord).reset_index(drop=True)\n",
    "\n",
    "    # Build DataFrame and sort by AUROC (desc) then AUPRC (desc)\n",
    "    df = pd.DataFrame(rows)\n",
    "    if not df.empty:\n",
    "        df = df.sort_values([\"auroc\", \"auprc\"], ascending=[False, False]).reset_index(drop=True)\n",
    "\n",
    "    # -------------------------\n",
    "    # Save results if requested\n",
    "    # -------------------------\n",
    "    if save_path is not None:\n",
    "        dirpath = os.path.dirname(save_path)\n",
    "        if dirpath:\n",
    "            os.makedirs(dirpath, exist_ok=True)\n",
    "        df.to_csv(save_path, index=False)\n",
    "\n",
    "    return df"
   ]
  },
  {
   "cell_type": "code",
   "execution_count": null,
   "metadata": {},
   "outputs": [
    {
     "name": "stderr",
     "output_type": "stream",
     "text": [
      "Layers:   0%|          | 0/16 [00:00<?, ?it/s]"
     ]
    },
    {
     "name": "stderr",
     "output_type": "stream",
     "text": [
      "Layers: 100%|██████████| 16/16 [02:44<00:00, 10.30s/it]\n"
     ]
    }
   ],
   "source": [
    "df_res = grid_search_ood_configs(\n",
    "    id_fit_data=id_fit_data,\n",
    "    id_test_data=id_test_data,\n",
    "    od_test_data=od_test_data,\n",
    "    method=\"dknn\", # DO NOT PUT \"raw_scores\"\n",
    "    method_params=config_dknn,\n",
    "    probing_test_size=0.2,\n",
    "    probing_random_state=777,\n",
    "    show_progress=True,\n",
    "    save_path=PLOT_DIR + f'ood_grid_{ACTIVATION_SOURCE}.csv',\n",
    ")"
   ]
  },
  {
   "cell_type": "code",
   "execution_count": null,
   "metadata": {},
   "outputs": [],
   "source": [
    "# trier par ordre "
   ]
  },
  {
   "cell_type": "code",
   "execution_count": 19,
   "metadata": {},
   "outputs": [
    {
     "data": {
      "text/html": [
       "<div>\n",
       "<style scoped>\n",
       "    .dataframe tbody tr th:only-of-type {\n",
       "        vertical-align: middle;\n",
       "    }\n",
       "\n",
       "    .dataframe tbody tr th {\n",
       "        vertical-align: top;\n",
       "    }\n",
       "\n",
       "    .dataframe thead th {\n",
       "        text-align: right;\n",
       "    }\n",
       "</style>\n",
       "<table border=\"1\" class=\"dataframe\">\n",
       "  <thead>\n",
       "    <tr style=\"text-align: right;\">\n",
       "      <th></th>\n",
       "      <th>activation_source</th>\n",
       "      <th>layer</th>\n",
       "      <th>group</th>\n",
       "      <th>aggregation</th>\n",
       "      <th>method</th>\n",
       "      <th>method_params</th>\n",
       "      <th>auroc</th>\n",
       "      <th>fpr95</th>\n",
       "      <th>auprc</th>\n",
       "      <th>threshold</th>\n",
       "      <th>acc_thresh</th>\n",
       "      <th>f1_thresh</th>\n",
       "      <th>prec_thresh</th>\n",
       "      <th>recall_thresh</th>\n",
       "      <th>acc_probe</th>\n",
       "      <th>f1_probe</th>\n",
       "      <th>prec_probe</th>\n",
       "      <th>recall_probe</th>\n",
       "    </tr>\n",
       "  </thead>\n",
       "  <tbody>\n",
       "    <tr>\n",
       "      <th>0</th>\n",
       "      <td>generation</td>\n",
       "      <td>13</td>\n",
       "      <td>hidden</td>\n",
       "      <td>last</td>\n",
       "      <td>dknn</td>\n",
       "      <td>{'k': 5, 'batch_size': 16}</td>\n",
       "      <td>0.574773</td>\n",
       "      <td>0.890</td>\n",
       "      <td>0.550238</td>\n",
       "      <td>0.029199</td>\n",
       "      <td>0.5600</td>\n",
       "      <td>0.609236</td>\n",
       "      <td>0.547923</td>\n",
       "      <td>0.686</td>\n",
       "      <td>0.7700</td>\n",
       "      <td>0.768844</td>\n",
       "      <td>0.772727</td>\n",
       "      <td>0.765</td>\n",
       "    </tr>\n",
       "    <tr>\n",
       "      <th>1</th>\n",
       "      <td>generation</td>\n",
       "      <td>15</td>\n",
       "      <td>hidden</td>\n",
       "      <td>last</td>\n",
       "      <td>dknn</td>\n",
       "      <td>{'k': 5, 'batch_size': 16}</td>\n",
       "      <td>0.571870</td>\n",
       "      <td>0.887</td>\n",
       "      <td>0.543901</td>\n",
       "      <td>0.021058</td>\n",
       "      <td>0.5600</td>\n",
       "      <td>0.655172</td>\n",
       "      <td>0.538660</td>\n",
       "      <td>0.836</td>\n",
       "      <td>0.7700</td>\n",
       "      <td>0.767677</td>\n",
       "      <td>0.775510</td>\n",
       "      <td>0.760</td>\n",
       "    </tr>\n",
       "    <tr>\n",
       "      <th>2</th>\n",
       "      <td>generation</td>\n",
       "      <td>17</td>\n",
       "      <td>hidden</td>\n",
       "      <td>last</td>\n",
       "      <td>dknn</td>\n",
       "      <td>{'k': 5, 'batch_size': 16}</td>\n",
       "      <td>0.571711</td>\n",
       "      <td>0.890</td>\n",
       "      <td>0.544259</td>\n",
       "      <td>0.022082</td>\n",
       "      <td>0.5615</td>\n",
       "      <td>0.639836</td>\n",
       "      <td>0.542857</td>\n",
       "      <td>0.779</td>\n",
       "      <td>0.7800</td>\n",
       "      <td>0.783251</td>\n",
       "      <td>0.771845</td>\n",
       "      <td>0.795</td>\n",
       "    </tr>\n",
       "    <tr>\n",
       "      <th>3</th>\n",
       "      <td>generation</td>\n",
       "      <td>23</td>\n",
       "      <td>logits</td>\n",
       "      <td>perplexity</td>\n",
       "      <td>raw_scores</td>\n",
       "      <td>{'k': 5, 'batch_size': 16}</td>\n",
       "      <td>0.538009</td>\n",
       "      <td>0.942</td>\n",
       "      <td>0.533549</td>\n",
       "      <td>1872.226196</td>\n",
       "      <td>0.5435</td>\n",
       "      <td>0.469494</td>\n",
       "      <td>0.560333</td>\n",
       "      <td>0.404</td>\n",
       "      <td>0.5150</td>\n",
       "      <td>0.500000</td>\n",
       "      <td>0.515957</td>\n",
       "      <td>0.485</td>\n",
       "    </tr>\n",
       "    <tr>\n",
       "      <th>4</th>\n",
       "      <td>generation</td>\n",
       "      <td>21</td>\n",
       "      <td>logits</td>\n",
       "      <td>perplexity</td>\n",
       "      <td>raw_scores</td>\n",
       "      <td>{'k': 5, 'batch_size': 16}</td>\n",
       "      <td>0.536212</td>\n",
       "      <td>0.944</td>\n",
       "      <td>0.530710</td>\n",
       "      <td>4747.371582</td>\n",
       "      <td>0.5400</td>\n",
       "      <td>0.449761</td>\n",
       "      <td>0.559524</td>\n",
       "      <td>0.376</td>\n",
       "      <td>0.5050</td>\n",
       "      <td>0.494898</td>\n",
       "      <td>0.505208</td>\n",
       "      <td>0.485</td>\n",
       "    </tr>\n",
       "    <tr>\n",
       "      <th>...</th>\n",
       "      <td>...</td>\n",
       "      <td>...</td>\n",
       "      <td>...</td>\n",
       "      <td>...</td>\n",
       "      <td>...</td>\n",
       "      <td>...</td>\n",
       "      <td>...</td>\n",
       "      <td>...</td>\n",
       "      <td>...</td>\n",
       "      <td>...</td>\n",
       "      <td>...</td>\n",
       "      <td>...</td>\n",
       "      <td>...</td>\n",
       "      <td>...</td>\n",
       "      <td>...</td>\n",
       "      <td>...</td>\n",
       "      <td>...</td>\n",
       "      <td>...</td>\n",
       "    </tr>\n",
       "    <tr>\n",
       "      <th>155</th>\n",
       "      <td>generation</td>\n",
       "      <td>11</td>\n",
       "      <td>hidden</td>\n",
       "      <td>max</td>\n",
       "      <td>dknn</td>\n",
       "      <td>{'k': 5, 'batch_size': 16}</td>\n",
       "      <td>0.472954</td>\n",
       "      <td>0.970</td>\n",
       "      <td>0.484770</td>\n",
       "      <td>0.000012</td>\n",
       "      <td>0.4980</td>\n",
       "      <td>0.196800</td>\n",
       "      <td>0.492000</td>\n",
       "      <td>0.123</td>\n",
       "      <td>0.6175</td>\n",
       "      <td>0.614610</td>\n",
       "      <td>0.619289</td>\n",
       "      <td>0.610</td>\n",
       "    </tr>\n",
       "    <tr>\n",
       "      <th>156</th>\n",
       "      <td>generation</td>\n",
       "      <td>13</td>\n",
       "      <td>hidden</td>\n",
       "      <td>max</td>\n",
       "      <td>dknn</td>\n",
       "      <td>{'k': 5, 'batch_size': 16}</td>\n",
       "      <td>0.469799</td>\n",
       "      <td>0.956</td>\n",
       "      <td>0.480461</td>\n",
       "      <td>0.000023</td>\n",
       "      <td>0.5015</td>\n",
       "      <td>0.009930</td>\n",
       "      <td>0.714286</td>\n",
       "      <td>0.005</td>\n",
       "      <td>0.5975</td>\n",
       "      <td>0.594458</td>\n",
       "      <td>0.598985</td>\n",
       "      <td>0.590</td>\n",
       "    </tr>\n",
       "    <tr>\n",
       "      <th>157</th>\n",
       "      <td>generation</td>\n",
       "      <td>9</td>\n",
       "      <td>logits</td>\n",
       "      <td>window_logit_entropy</td>\n",
       "      <td>raw_scores</td>\n",
       "      <td>{'k': 5, 'batch_size': 16}</td>\n",
       "      <td>0.469145</td>\n",
       "      <td>0.965</td>\n",
       "      <td>0.470554</td>\n",
       "      <td>3.910973</td>\n",
       "      <td>0.4990</td>\n",
       "      <td>0.665554</td>\n",
       "      <td>0.499499</td>\n",
       "      <td>0.997</td>\n",
       "      <td>0.5450</td>\n",
       "      <td>0.545000</td>\n",
       "      <td>0.545000</td>\n",
       "      <td>0.545</td>\n",
       "    </tr>\n",
       "    <tr>\n",
       "      <th>158</th>\n",
       "      <td>generation</td>\n",
       "      <td>5</td>\n",
       "      <td>hidden</td>\n",
       "      <td>last</td>\n",
       "      <td>dknn</td>\n",
       "      <td>{'k': 5, 'batch_size': 16}</td>\n",
       "      <td>0.467361</td>\n",
       "      <td>0.944</td>\n",
       "      <td>0.469490</td>\n",
       "      <td>0.019234</td>\n",
       "      <td>0.5045</td>\n",
       "      <td>0.665542</td>\n",
       "      <td>0.502292</td>\n",
       "      <td>0.986</td>\n",
       "      <td>0.6100</td>\n",
       "      <td>0.602041</td>\n",
       "      <td>0.614583</td>\n",
       "      <td>0.590</td>\n",
       "    </tr>\n",
       "    <tr>\n",
       "      <th>159</th>\n",
       "      <td>generation</td>\n",
       "      <td>9</td>\n",
       "      <td>hidden</td>\n",
       "      <td>last</td>\n",
       "      <td>dknn</td>\n",
       "      <td>{'k': 5, 'batch_size': 16}</td>\n",
       "      <td>0.464753</td>\n",
       "      <td>0.944</td>\n",
       "      <td>0.464931</td>\n",
       "      <td>0.018809</td>\n",
       "      <td>0.5065</td>\n",
       "      <td>0.646617</td>\n",
       "      <td>0.503625</td>\n",
       "      <td>0.903</td>\n",
       "      <td>0.5900</td>\n",
       "      <td>0.590000</td>\n",
       "      <td>0.590000</td>\n",
       "      <td>0.590</td>\n",
       "    </tr>\n",
       "  </tbody>\n",
       "</table>\n",
       "<p>160 rows × 18 columns</p>\n",
       "</div>"
      ],
      "text/plain": [
       "    activation_source  layer   group           aggregation      method  \\\n",
       "0          generation     13  hidden                  last        dknn   \n",
       "1          generation     15  hidden                  last        dknn   \n",
       "2          generation     17  hidden                  last        dknn   \n",
       "3          generation     23  logits            perplexity  raw_scores   \n",
       "4          generation     21  logits            perplexity  raw_scores   \n",
       "..                ...    ...     ...                   ...         ...   \n",
       "155        generation     11  hidden                   max        dknn   \n",
       "156        generation     13  hidden                   max        dknn   \n",
       "157        generation      9  logits  window_logit_entropy  raw_scores   \n",
       "158        generation      5  hidden                  last        dknn   \n",
       "159        generation      9  hidden                  last        dknn   \n",
       "\n",
       "                  method_params     auroc  fpr95     auprc    threshold  \\\n",
       "0    {'k': 5, 'batch_size': 16}  0.574773  0.890  0.550238     0.029199   \n",
       "1    {'k': 5, 'batch_size': 16}  0.571870  0.887  0.543901     0.021058   \n",
       "2    {'k': 5, 'batch_size': 16}  0.571711  0.890  0.544259     0.022082   \n",
       "3    {'k': 5, 'batch_size': 16}  0.538009  0.942  0.533549  1872.226196   \n",
       "4    {'k': 5, 'batch_size': 16}  0.536212  0.944  0.530710  4747.371582   \n",
       "..                          ...       ...    ...       ...          ...   \n",
       "155  {'k': 5, 'batch_size': 16}  0.472954  0.970  0.484770     0.000012   \n",
       "156  {'k': 5, 'batch_size': 16}  0.469799  0.956  0.480461     0.000023   \n",
       "157  {'k': 5, 'batch_size': 16}  0.469145  0.965  0.470554     3.910973   \n",
       "158  {'k': 5, 'batch_size': 16}  0.467361  0.944  0.469490     0.019234   \n",
       "159  {'k': 5, 'batch_size': 16}  0.464753  0.944  0.464931     0.018809   \n",
       "\n",
       "     acc_thresh  f1_thresh  prec_thresh  recall_thresh  acc_probe  f1_probe  \\\n",
       "0        0.5600   0.609236     0.547923          0.686     0.7700  0.768844   \n",
       "1        0.5600   0.655172     0.538660          0.836     0.7700  0.767677   \n",
       "2        0.5615   0.639836     0.542857          0.779     0.7800  0.783251   \n",
       "3        0.5435   0.469494     0.560333          0.404     0.5150  0.500000   \n",
       "4        0.5400   0.449761     0.559524          0.376     0.5050  0.494898   \n",
       "..          ...        ...          ...            ...        ...       ...   \n",
       "155      0.4980   0.196800     0.492000          0.123     0.6175  0.614610   \n",
       "156      0.5015   0.009930     0.714286          0.005     0.5975  0.594458   \n",
       "157      0.4990   0.665554     0.499499          0.997     0.5450  0.545000   \n",
       "158      0.5045   0.665542     0.502292          0.986     0.6100  0.602041   \n",
       "159      0.5065   0.646617     0.503625          0.903     0.5900  0.590000   \n",
       "\n",
       "     prec_probe  recall_probe  \n",
       "0      0.772727         0.765  \n",
       "1      0.775510         0.760  \n",
       "2      0.771845         0.795  \n",
       "3      0.515957         0.485  \n",
       "4      0.505208         0.485  \n",
       "..          ...           ...  \n",
       "155    0.619289         0.610  \n",
       "156    0.598985         0.590  \n",
       "157    0.545000         0.545  \n",
       "158    0.614583         0.590  \n",
       "159    0.590000         0.590  \n",
       "\n",
       "[160 rows x 18 columns]"
      ]
     },
     "execution_count": 19,
     "metadata": {},
     "output_type": "execute_result"
    }
   ],
   "source": [
    "df_res"
   ]
  },
  {
   "cell_type": "code",
   "execution_count": null,
   "metadata": {},
   "outputs": [],
   "source": []
  }
 ],
 "metadata": {
  "kernelspec": {
   "display_name": "ood_env",
   "language": "python",
   "name": "ood_env"
  },
  "language_info": {
   "codemirror_mode": {
    "name": "ipython",
    "version": 3
   },
   "file_extension": ".py",
   "mimetype": "text/x-python",
   "name": "python",
   "nbconvert_exporter": "python",
   "pygments_lexer": "ipython3",
   "version": "3.11.11"
  }
 },
 "nbformat": 4,
 "nbformat_minor": 4
}
